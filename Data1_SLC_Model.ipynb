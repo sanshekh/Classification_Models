{
 "cells": [
  {
   "cell_type": "code",
   "execution_count": 1,
   "metadata": {},
   "outputs": [],
   "source": [
    "import pandas as pd\n",
    "import numpy as np\n",
    "import seaborn as sns\n",
    "import matplotlib.pyplot as plt\n",
    "%matplotlib inline"
   ]
  },
  {
   "cell_type": "code",
   "execution_count": 2,
   "metadata": {},
   "outputs": [
    {
     "data": {
      "text/html": [
       "<div>\n",
       "<style scoped>\n",
       "    .dataframe tbody tr th:only-of-type {\n",
       "        vertical-align: middle;\n",
       "    }\n",
       "\n",
       "    .dataframe tbody tr th {\n",
       "        vertical-align: top;\n",
       "    }\n",
       "\n",
       "    .dataframe thead th {\n",
       "        text-align: right;\n",
       "    }\n",
       "</style>\n",
       "<table border=\"1\" class=\"dataframe\">\n",
       "  <thead>\n",
       "    <tr style=\"text-align: right;\">\n",
       "      <th></th>\n",
       "      <th>ID</th>\n",
       "      <th>Age</th>\n",
       "      <th>Experience</th>\n",
       "      <th>Income</th>\n",
       "      <th>ZIP Code</th>\n",
       "      <th>Family</th>\n",
       "      <th>CCAvg</th>\n",
       "      <th>Education</th>\n",
       "      <th>Mortgage</th>\n",
       "      <th>Personal Loan</th>\n",
       "      <th>Securities Account</th>\n",
       "      <th>CD Account</th>\n",
       "      <th>Online</th>\n",
       "      <th>CreditCard</th>\n",
       "    </tr>\n",
       "  </thead>\n",
       "  <tbody>\n",
       "    <tr>\n",
       "      <th>0</th>\n",
       "      <td>1</td>\n",
       "      <td>25</td>\n",
       "      <td>1</td>\n",
       "      <td>49</td>\n",
       "      <td>91107</td>\n",
       "      <td>4</td>\n",
       "      <td>1.6</td>\n",
       "      <td>1</td>\n",
       "      <td>0</td>\n",
       "      <td>0</td>\n",
       "      <td>1</td>\n",
       "      <td>0</td>\n",
       "      <td>0</td>\n",
       "      <td>0</td>\n",
       "    </tr>\n",
       "    <tr>\n",
       "      <th>1</th>\n",
       "      <td>2</td>\n",
       "      <td>45</td>\n",
       "      <td>19</td>\n",
       "      <td>34</td>\n",
       "      <td>90089</td>\n",
       "      <td>3</td>\n",
       "      <td>1.5</td>\n",
       "      <td>1</td>\n",
       "      <td>0</td>\n",
       "      <td>0</td>\n",
       "      <td>1</td>\n",
       "      <td>0</td>\n",
       "      <td>0</td>\n",
       "      <td>0</td>\n",
       "    </tr>\n",
       "    <tr>\n",
       "      <th>2</th>\n",
       "      <td>3</td>\n",
       "      <td>39</td>\n",
       "      <td>15</td>\n",
       "      <td>11</td>\n",
       "      <td>94720</td>\n",
       "      <td>1</td>\n",
       "      <td>1.0</td>\n",
       "      <td>1</td>\n",
       "      <td>0</td>\n",
       "      <td>0</td>\n",
       "      <td>0</td>\n",
       "      <td>0</td>\n",
       "      <td>0</td>\n",
       "      <td>0</td>\n",
       "    </tr>\n",
       "    <tr>\n",
       "      <th>3</th>\n",
       "      <td>4</td>\n",
       "      <td>35</td>\n",
       "      <td>9</td>\n",
       "      <td>100</td>\n",
       "      <td>94112</td>\n",
       "      <td>1</td>\n",
       "      <td>2.7</td>\n",
       "      <td>2</td>\n",
       "      <td>0</td>\n",
       "      <td>0</td>\n",
       "      <td>0</td>\n",
       "      <td>0</td>\n",
       "      <td>0</td>\n",
       "      <td>0</td>\n",
       "    </tr>\n",
       "    <tr>\n",
       "      <th>4</th>\n",
       "      <td>5</td>\n",
       "      <td>35</td>\n",
       "      <td>8</td>\n",
       "      <td>45</td>\n",
       "      <td>91330</td>\n",
       "      <td>4</td>\n",
       "      <td>1.0</td>\n",
       "      <td>2</td>\n",
       "      <td>0</td>\n",
       "      <td>0</td>\n",
       "      <td>0</td>\n",
       "      <td>0</td>\n",
       "      <td>0</td>\n",
       "      <td>1</td>\n",
       "    </tr>\n",
       "  </tbody>\n",
       "</table>\n",
       "</div>"
      ],
      "text/plain": [
       "   ID  Age  Experience  Income  ZIP Code  Family  CCAvg  Education  Mortgage  \\\n",
       "0   1   25           1      49     91107       4    1.6          1         0   \n",
       "1   2   45          19      34     90089       3    1.5          1         0   \n",
       "2   3   39          15      11     94720       1    1.0          1         0   \n",
       "3   4   35           9     100     94112       1    2.7          2         0   \n",
       "4   5   35           8      45     91330       4    1.0          2         0   \n",
       "\n",
       "   Personal Loan  Securities Account  CD Account  Online  CreditCard  \n",
       "0              0                   1           0       0           0  \n",
       "1              0                   1           0       0           0  \n",
       "2              0                   0           0       0           0  \n",
       "3              0                   0           0       0           0  \n",
       "4              0                   0           0       0           1  "
      ]
     },
     "execution_count": 2,
     "metadata": {},
     "output_type": "execute_result"
    }
   ],
   "source": [
    "df = pd.read_excel('Data_.xlsx')\n",
    "df.head()"
   ]
  },
  {
   "cell_type": "code",
   "execution_count": 3,
   "metadata": {},
   "outputs": [
    {
     "data": {
      "text/plain": [
       "(5000, 14)"
      ]
     },
     "execution_count": 3,
     "metadata": {},
     "output_type": "execute_result"
    }
   ],
   "source": [
    "df.shape"
   ]
  },
  {
   "cell_type": "code",
   "execution_count": 4,
   "metadata": {
    "scrolled": true
   },
   "outputs": [
    {
     "name": "stdout",
     "output_type": "stream",
     "text": [
      "<class 'pandas.core.frame.DataFrame'>\n",
      "RangeIndex: 5000 entries, 0 to 4999\n",
      "Data columns (total 14 columns):\n",
      " #   Column              Non-Null Count  Dtype  \n",
      "---  ------              --------------  -----  \n",
      " 0   ID                  5000 non-null   int64  \n",
      " 1   Age                 5000 non-null   int64  \n",
      " 2   Experience          5000 non-null   int64  \n",
      " 3   Income              5000 non-null   int64  \n",
      " 4   ZIP Code            5000 non-null   int64  \n",
      " 5   Family              5000 non-null   int64  \n",
      " 6   CCAvg               5000 non-null   float64\n",
      " 7   Education           5000 non-null   int64  \n",
      " 8   Mortgage            5000 non-null   int64  \n",
      " 9   Personal Loan       5000 non-null   int64  \n",
      " 10  Securities Account  5000 non-null   int64  \n",
      " 11  CD Account          5000 non-null   int64  \n",
      " 12  Online              5000 non-null   int64  \n",
      " 13  CreditCard          5000 non-null   int64  \n",
      "dtypes: float64(1), int64(13)\n",
      "memory usage: 547.0 KB\n"
     ]
    }
   ],
   "source": [
    "df.info()"
   ]
  },
  {
   "cell_type": "code",
   "execution_count": 5,
   "metadata": {},
   "outputs": [
    {
     "data": {
      "text/plain": [
       "ID                    0\n",
       "Age                   0\n",
       "Experience            0\n",
       "Income                0\n",
       "ZIP Code              0\n",
       "Family                0\n",
       "CCAvg                 0\n",
       "Education             0\n",
       "Mortgage              0\n",
       "Personal Loan         0\n",
       "Securities Account    0\n",
       "CD Account            0\n",
       "Online                0\n",
       "CreditCard            0\n",
       "dtype: int64"
      ]
     },
     "execution_count": 5,
     "metadata": {},
     "output_type": "execute_result"
    }
   ],
   "source": [
    "df.isnull().sum()"
   ]
  },
  {
   "cell_type": "code",
   "execution_count": 6,
   "metadata": {},
   "outputs": [
    {
     "data": {
      "text/plain": [
       "0    3530\n",
       "1    1470\n",
       "Name: CreditCard, dtype: int64"
      ]
     },
     "execution_count": 6,
     "metadata": {},
     "output_type": "execute_result"
    }
   ],
   "source": [
    "df['CreditCard'].value_counts()"
   ]
  },
  {
   "cell_type": "code",
   "execution_count": 7,
   "metadata": {},
   "outputs": [
    {
     "data": {
      "text/plain": [
       "<function matplotlib.pyplot.show(*args, **kw)>"
      ]
     },
     "execution_count": 7,
     "metadata": {},
     "output_type": "execute_result"
    },
    {
     "data": {
      "image/png": "[encoded data removed]",
      "text/plain": [
       "<Figure size 1008x360 with 1 Axes>"
      ]
     },
     "metadata": {
      "needs_background": "light"
     },
     "output_type": "display_data"
    }
   ],
   "source": [
    "plt.figure(figsize=(14,5))\n",
    "sns.boxplot(data = df)\n",
    "plt.show"
   ]
  },
  {
   "cell_type": "code",
   "execution_count": 8,
   "metadata": {},
   "outputs": [
    {
     "data": {
      "text/plain": [
       "0    90.4\n",
       "1     9.6\n",
       "Name: Personal Loan, dtype: float64"
      ]
     },
     "execution_count": 8,
     "metadata": {},
     "output_type": "execute_result"
    }
   ],
   "source": [
    "df['Personal Loan'].value_counts()/df.shape[0] * 100"
   ]
  },
  {
   "cell_type": "code",
   "execution_count": 9,
   "metadata": {},
   "outputs": [
    {
     "name": "stdout",
     "output_type": "stream",
     "text": [
      "2047    1\n",
      "2608    1\n",
      "4647    1\n",
      "2600    1\n",
      "553     1\n",
      "       ..\n",
      "3263    1\n",
      "1218    1\n",
      "3267    1\n",
      "1222    1\n",
      "2049    1\n",
      "Name: ID, Length: 5000, dtype: int64\n",
      "\n",
      "35    151\n",
      "43    149\n",
      "52    145\n",
      "58    143\n",
      "54    143\n",
      "50    138\n",
      "41    136\n",
      "30    136\n",
      "56    135\n",
      "34    134\n",
      "39    133\n",
      "59    132\n",
      "57    132\n",
      "51    129\n",
      "60    127\n",
      "45    127\n",
      "46    127\n",
      "42    126\n",
      "40    125\n",
      "31    125\n",
      "55    125\n",
      "62    123\n",
      "29    123\n",
      "61    122\n",
      "44    121\n",
      "32    120\n",
      "33    120\n",
      "48    118\n",
      "38    115\n",
      "49    115\n",
      "47    113\n",
      "53    112\n",
      "63    108\n",
      "36    107\n",
      "37    106\n",
      "28    103\n",
      "27     91\n",
      "65     80\n",
      "64     78\n",
      "26     78\n",
      "25     53\n",
      "24     28\n",
      "66     24\n",
      "23     12\n",
      "67     12\n",
      "Name: Age, dtype: int64\n",
      "\n",
      " 32    154\n",
      " 20    148\n",
      " 9     147\n",
      " 5     146\n",
      " 23    144\n",
      " 35    143\n",
      " 25    142\n",
      " 28    138\n",
      " 18    137\n",
      " 19    135\n",
      " 26    134\n",
      " 24    131\n",
      " 3     129\n",
      " 14    127\n",
      " 16    127\n",
      " 30    126\n",
      " 34    125\n",
      " 27    125\n",
      " 17    125\n",
      " 29    124\n",
      " 22    124\n",
      " 7     121\n",
      " 8     119\n",
      " 6     119\n",
      " 15    119\n",
      " 10    118\n",
      " 33    117\n",
      " 13    117\n",
      " 11    116\n",
      " 37    116\n",
      " 36    114\n",
      " 21    113\n",
      " 4     113\n",
      " 31    104\n",
      " 12    102\n",
      " 38     88\n",
      " 39     85\n",
      " 2      85\n",
      " 1      74\n",
      " 0      66\n",
      " 40     57\n",
      " 41     43\n",
      "-1      33\n",
      "-2      15\n",
      " 42      8\n",
      "-3       4\n",
      " 43      3\n",
      "Name: Experience, dtype: int64\n",
      "\n",
      "44     85\n",
      "38     84\n",
      "81     83\n",
      "41     82\n",
      "39     81\n",
      "       ..\n",
      "189     2\n",
      "202     2\n",
      "205     2\n",
      "224     1\n",
      "218     1\n",
      "Name: Income, Length: 162, dtype: int64\n",
      "\n",
      "94720    169\n",
      "94305    127\n",
      "95616    116\n",
      "90095     71\n",
      "93106     57\n",
      "        ... \n",
      "96145      1\n",
      "94970      1\n",
      "94598      1\n",
      "90068      1\n",
      "94087      1\n",
      "Name: ZIP Code, Length: 467, dtype: int64\n",
      "\n",
      "1    1472\n",
      "2    1296\n",
      "4    1222\n",
      "3    1010\n",
      "Name: Family, dtype: int64\n",
      "\n",
      "0.300000    241\n",
      "1.000000    231\n",
      "0.200000    204\n",
      "2.000000    188\n",
      "0.800000    187\n",
      "           ... \n",
      "8.200000      1\n",
      "5.333333      1\n",
      "4.666667      1\n",
      "8.900000      1\n",
      "9.300000      1\n",
      "Name: CCAvg, Length: 108, dtype: int64\n",
      "\n",
      "1    2096\n",
      "3    1501\n",
      "2    1403\n",
      "Name: Education, dtype: int64\n",
      "\n",
      "0      3462\n",
      "98       17\n",
      "103      16\n",
      "119      16\n",
      "83       16\n",
      "       ... \n",
      "541       1\n",
      "509       1\n",
      "505       1\n",
      "485       1\n",
      "577       1\n",
      "Name: Mortgage, Length: 347, dtype: int64\n",
      "\n",
      "0    4520\n",
      "1     480\n",
      "Name: Personal Loan, dtype: int64\n",
      "\n",
      "0    4478\n",
      "1     522\n",
      "Name: Securities Account, dtype: int64\n",
      "\n",
      "0    4698\n",
      "1     302\n",
      "Name: CD Account, dtype: int64\n",
      "\n",
      "1    2984\n",
      "0    2016\n",
      "Name: Online, dtype: int64\n",
      "\n",
      "0    3530\n",
      "1    1470\n",
      "Name: CreditCard, dtype: int64\n",
      "\n"
     ]
    }
   ],
   "source": [
    "for i in df.columns:\n",
    "    print(df[i].value_counts())\n",
    "    print()"
   ]
  },
  {
   "cell_type": "code",
   "execution_count": 10,
   "metadata": {},
   "outputs": [
    {
     "data": {
      "text/plain": [
       "28    29\n",
       "26    27\n",
       "27    20\n",
       "29     7\n",
       "32     2\n",
       "Name: Age, dtype: int64"
      ]
     },
     "execution_count": 10,
     "metadata": {},
     "output_type": "execute_result"
    }
   ],
   "source": [
    "df['Age'][df['Experience']==2].value_counts()"
   ]
  },
  {
   "cell_type": "code",
   "execution_count": 11,
   "metadata": {},
   "outputs": [
    {
     "data": {
      "text/plain": [
       "54    63\n",
       "41    50\n",
       "43    49\n",
       "42    48\n",
       "56    47\n",
       "55    45\n",
       "53    45\n",
       "39    43\n",
       "44    43\n",
       "62    42\n",
       "40    42\n",
       "58    41\n",
       "63    40\n",
       "57    40\n",
       "61    37\n",
       "52    37\n",
       "38    37\n",
       "35    37\n",
       "46    37\n",
       "60    36\n",
       "30    35\n",
       "29    35\n",
       "45    35\n",
       "50    35\n",
       "59    34\n",
       "51    33\n",
       "34    33\n",
       "33    33\n",
       "31    33\n",
       "64    30\n",
       "36    29\n",
       "48    28\n",
       "49    28\n",
       "27    28\n",
       "65    27\n",
       "47    27\n",
       "37    27\n",
       "32    26\n",
       "26    24\n",
       "28    22\n",
       "25    19\n",
       "66    10\n",
       "24     7\n",
       "67     4\n",
       "Name: Age, dtype: int64"
      ]
     },
     "execution_count": 11,
     "metadata": {},
     "output_type": "execute_result"
    }
   ],
   "source": [
    "df['Age'][df['Education']==3].value_counts()"
   ]
  },
  {
   "cell_type": "code",
   "execution_count": 12,
   "metadata": {},
   "outputs": [
    {
     "data": {
      "text/plain": [
       "1    2096\n",
       "3    1501\n",
       "2    1403\n",
       "Name: Education, dtype: int64"
      ]
     },
     "execution_count": 12,
     "metadata": {},
     "output_type": "execute_result"
    }
   ],
   "source": [
    "df['Education'].value_counts()"
   ]
  },
  {
   "cell_type": "code",
   "execution_count": 13,
   "metadata": {},
   "outputs": [],
   "source": [
    "df['Experience'].replace(to_replace=[-1, -2, -3], value=2, inplace=True)"
   ]
  },
  {
   "cell_type": "code",
   "execution_count": 14,
   "metadata": {},
   "outputs": [
    {
     "data": {
      "text/plain": [
       "32    154\n",
       "20    148\n",
       "9     147\n",
       "5     146\n",
       "23    144\n",
       "35    143\n",
       "25    142\n",
       "28    138\n",
       "2     137\n",
       "18    137\n",
       "19    135\n",
       "26    134\n",
       "24    131\n",
       "3     129\n",
       "16    127\n",
       "14    127\n",
       "30    126\n",
       "27    125\n",
       "17    125\n",
       "34    125\n",
       "29    124\n",
       "22    124\n",
       "7     121\n",
       "6     119\n",
       "8     119\n",
       "15    119\n",
       "10    118\n",
       "33    117\n",
       "13    117\n",
       "37    116\n",
       "11    116\n",
       "36    114\n",
       "21    113\n",
       "4     113\n",
       "31    104\n",
       "12    102\n",
       "38     88\n",
       "39     85\n",
       "1      74\n",
       "0      66\n",
       "40     57\n",
       "41     43\n",
       "42      8\n",
       "43      3\n",
       "Name: Experience, dtype: int64"
      ]
     },
     "execution_count": 14,
     "metadata": {},
     "output_type": "execute_result"
    }
   ],
   "source": [
    "df['Experience'].value_counts()"
   ]
  },
  {
   "cell_type": "markdown",
   "metadata": {},
   "source": [
    "- There are no negative experiences."
   ]
  },
  {
   "cell_type": "code",
   "execution_count": 15,
   "metadata": {},
   "outputs": [],
   "source": [
    "from sklearn.impute import KNNImputer"
   ]
  },
  {
   "cell_type": "code",
   "execution_count": 16,
   "metadata": {},
   "outputs": [
    {
     "data": {
      "image/png": "[encoded data removed]",
      "text/plain": [
       "<Figure size 1080x432 with 2 Axes>"
      ]
     },
     "metadata": {
      "needs_background": "light"
     },
     "output_type": "display_data"
    }
   ],
   "source": [
    "plt.figure(figsize=(15,6))\n",
    "sns.heatmap(df.corr(), annot=True)\n",
    "plt.show()"
   ]
  },
  {
   "cell_type": "code",
   "execution_count": 33,
   "metadata": {},
   "outputs": [
    {
     "data": {
      "text/plain": [
       "0    4520\n",
       "1     480\n",
       "Name: Personal Loan, dtype: int64"
      ]
     },
     "execution_count": 33,
     "metadata": {},
     "output_type": "execute_result"
    }
   ],
   "source": [
    "df['Personal Loan'].value_counts()"
   ]
  },
  {
   "cell_type": "code",
   "execution_count": 17,
   "metadata": {},
   "outputs": [],
   "source": [
    "X = df.drop(['ID', 'ZIP Code'], axis=1)"
   ]
  },
  {
   "cell_type": "code",
   "execution_count": 18,
   "metadata": {},
   "outputs": [],
   "source": [
    "y = df['Personal Loan']"
   ]
  },
  {
   "cell_type": "code",
   "execution_count": 19,
   "metadata": {},
   "outputs": [],
   "source": [
    "from sklearn.model_selection import train_test_split, GridSearchCV, KFold\n",
    "from sklearn.tree import DecisionTreeClassifier\n",
    "from sklearn.ensemble import RandomForestClassifier\n",
    "from sklearn.linear_model import LogisticRegression\n",
    "from sklearn.metrics import roc_auc_score, roc_curve, accuracy_score, classification_report, confusion_matrix, f1_score\n",
    "from sklearn.preprocessing import StandardScaler"
   ]
  },
  {
   "cell_type": "code",
   "execution_count": 20,
   "metadata": {},
   "outputs": [
    {
     "name": "stdout",
     "output_type": "stream",
     "text": [
      "(3500, 12)\n",
      "(1500, 12)\n",
      "(3500,)\n",
      "(1500,)\n"
     ]
    }
   ],
   "source": [
    "X_train, X_test, y_train, y_test = train_test_split(X, y, test_size=0.3, random_state=42)\n",
    "print(X_train.shape)\n",
    "print(X_test.shape)\n",
    "print(y_train.shape)\n",
    "print(y_test.shape)"
   ]
  },
  {
   "cell_type": "code",
   "execution_count": 36,
   "metadata": {},
   "outputs": [
    {
     "name": "stdout",
     "output_type": "stream",
     "text": [
      "Collecting imblearn\n",
      "  Using cached imblearn-0.0-py2.py3-none-any.whl (1.9 kB)\n",
      "Collecting imbalanced-learn\n",
      "  Using cached imbalanced_learn-0.7.0-py3-none-any.whl (167 kB)\n",
      "Requirement already satisfied: joblib>=0.11 in f:\\anaconda_3\\lib\\site-packages (from imbalanced-learn->imblearn) (0.16.0)\n",
      "Requirement already satisfied: numpy>=1.13.3 in f:\\anaconda_3\\lib\\site-packages (from imbalanced-learn->imblearn) (1.18.5)\n",
      "Requirement already satisfied: scipy>=0.19.1 in f:\\anaconda_3\\lib\\site-packages (from imbalanced-learn->imblearn) (1.5.0)\n",
      "Requirement already satisfied: scikit-learn>=0.23 in f:\\anaconda_3\\lib\\site-packages (from imbalanced-learn->imblearn) (0.23.1)\n",
      "Requirement already satisfied: threadpoolctl>=2.0.0 in f:\\anaconda_3\\lib\\site-packages (from scikit-learn>=0.23->imbalanced-learn->imblearn) (2.1.0)\n",
      "Installing collected packages: imbalanced-learn, imblearn\n",
      "Successfully installed imbalanced-learn-0.7.0 imblearn-0.0\n"
     ]
    }
   ],
   "source": [
    "!pip install imblearn"
   ]
  },
  {
   "cell_type": "code",
   "execution_count": 37,
   "metadata": {},
   "outputs": [],
   "source": [
    "from imblearn.over_sampling import SMOTE"
   ]
  },
  {
   "cell_type": "code",
   "execution_count": 39,
   "metadata": {},
   "outputs": [
    {
     "name": "stdout",
     "output_type": "stream",
     "text": [
      "(9040, 12)\n",
      "(9040,)\n"
     ]
    }
   ],
   "source": [
    "sm = SMOTE(k_neighbors=5, random_state=1)\n",
    "X_bal, y_bal = sm.fit_resample(X, y)\n",
    "print(X_bal.shape)\n",
    "print(y_bal.shape)"
   ]
  },
  {
   "cell_type": "code",
   "execution_count": 40,
   "metadata": {},
   "outputs": [
    {
     "data": {
      "text/plain": [
       "1    4520\n",
       "0    4520\n",
       "Name: Personal Loan, dtype: int64"
      ]
     },
     "execution_count": 40,
     "metadata": {},
     "output_type": "execute_result"
    }
   ],
   "source": [
    "y_bal.value_counts()"
   ]
  },
  {
   "cell_type": "code",
   "execution_count": 41,
   "metadata": {},
   "outputs": [],
   "source": [
    "X_train_sm, X_test_sm, y_train_sm, y_test_sm = train_test_split(X_bal, y_bal, test_size=0.3, random_state=42, stratify=y_bal)"
   ]
  },
  {
   "cell_type": "markdown",
   "metadata": {},
   "source": [
    "### Model1 : Logistic Regression"
   ]
  },
  {
   "cell_type": "markdown",
   "metadata": {},
   "source": [
    "#### Logit Results"
   ]
  },
  {
   "cell_type": "code",
   "execution_count": 42,
   "metadata": {},
   "outputs": [
    {
     "data": {
      "text/html": [
       "<div>\n",
       "<style scoped>\n",
       "    .dataframe tbody tr th:only-of-type {\n",
       "        vertical-align: middle;\n",
       "    }\n",
       "\n",
       "    .dataframe tbody tr th {\n",
       "        vertical-align: top;\n",
       "    }\n",
       "\n",
       "    .dataframe thead th {\n",
       "        text-align: right;\n",
       "    }\n",
       "</style>\n",
       "<table border=\"1\" class=\"dataframe\">\n",
       "  <thead>\n",
       "    <tr style=\"text-align: right;\">\n",
       "      <th></th>\n",
       "      <th>const</th>\n",
       "      <th>Age</th>\n",
       "      <th>Experience</th>\n",
       "      <th>Income</th>\n",
       "      <th>Family</th>\n",
       "      <th>CCAvg</th>\n",
       "      <th>Education</th>\n",
       "      <th>Mortgage</th>\n",
       "      <th>Personal Loan</th>\n",
       "      <th>Securities Account</th>\n",
       "      <th>CD Account</th>\n",
       "      <th>Online</th>\n",
       "      <th>CreditCard</th>\n",
       "    </tr>\n",
       "  </thead>\n",
       "  <tbody>\n",
       "    <tr>\n",
       "      <th>0</th>\n",
       "      <td>1.0</td>\n",
       "      <td>25</td>\n",
       "      <td>1</td>\n",
       "      <td>49</td>\n",
       "      <td>4</td>\n",
       "      <td>1.600000</td>\n",
       "      <td>1</td>\n",
       "      <td>0</td>\n",
       "      <td>0</td>\n",
       "      <td>1</td>\n",
       "      <td>0</td>\n",
       "      <td>0</td>\n",
       "      <td>0</td>\n",
       "    </tr>\n",
       "    <tr>\n",
       "      <th>1</th>\n",
       "      <td>1.0</td>\n",
       "      <td>45</td>\n",
       "      <td>19</td>\n",
       "      <td>34</td>\n",
       "      <td>3</td>\n",
       "      <td>1.500000</td>\n",
       "      <td>1</td>\n",
       "      <td>0</td>\n",
       "      <td>0</td>\n",
       "      <td>1</td>\n",
       "      <td>0</td>\n",
       "      <td>0</td>\n",
       "      <td>0</td>\n",
       "    </tr>\n",
       "    <tr>\n",
       "      <th>2</th>\n",
       "      <td>1.0</td>\n",
       "      <td>39</td>\n",
       "      <td>15</td>\n",
       "      <td>11</td>\n",
       "      <td>1</td>\n",
       "      <td>1.000000</td>\n",
       "      <td>1</td>\n",
       "      <td>0</td>\n",
       "      <td>0</td>\n",
       "      <td>0</td>\n",
       "      <td>0</td>\n",
       "      <td>0</td>\n",
       "      <td>0</td>\n",
       "    </tr>\n",
       "    <tr>\n",
       "      <th>3</th>\n",
       "      <td>1.0</td>\n",
       "      <td>35</td>\n",
       "      <td>9</td>\n",
       "      <td>100</td>\n",
       "      <td>1</td>\n",
       "      <td>2.700000</td>\n",
       "      <td>2</td>\n",
       "      <td>0</td>\n",
       "      <td>0</td>\n",
       "      <td>0</td>\n",
       "      <td>0</td>\n",
       "      <td>0</td>\n",
       "      <td>0</td>\n",
       "    </tr>\n",
       "    <tr>\n",
       "      <th>4</th>\n",
       "      <td>1.0</td>\n",
       "      <td>35</td>\n",
       "      <td>8</td>\n",
       "      <td>45</td>\n",
       "      <td>4</td>\n",
       "      <td>1.000000</td>\n",
       "      <td>2</td>\n",
       "      <td>0</td>\n",
       "      <td>0</td>\n",
       "      <td>0</td>\n",
       "      <td>0</td>\n",
       "      <td>0</td>\n",
       "      <td>1</td>\n",
       "    </tr>\n",
       "    <tr>\n",
       "      <th>...</th>\n",
       "      <td>...</td>\n",
       "      <td>...</td>\n",
       "      <td>...</td>\n",
       "      <td>...</td>\n",
       "      <td>...</td>\n",
       "      <td>...</td>\n",
       "      <td>...</td>\n",
       "      <td>...</td>\n",
       "      <td>...</td>\n",
       "      <td>...</td>\n",
       "      <td>...</td>\n",
       "      <td>...</td>\n",
       "      <td>...</td>\n",
       "    </tr>\n",
       "    <tr>\n",
       "      <th>9035</th>\n",
       "      <td>1.0</td>\n",
       "      <td>47</td>\n",
       "      <td>22</td>\n",
       "      <td>160</td>\n",
       "      <td>2</td>\n",
       "      <td>4.105395</td>\n",
       "      <td>3</td>\n",
       "      <td>250</td>\n",
       "      <td>1</td>\n",
       "      <td>0</td>\n",
       "      <td>0</td>\n",
       "      <td>0</td>\n",
       "      <td>0</td>\n",
       "    </tr>\n",
       "    <tr>\n",
       "      <th>9036</th>\n",
       "      <td>1.0</td>\n",
       "      <td>62</td>\n",
       "      <td>36</td>\n",
       "      <td>169</td>\n",
       "      <td>2</td>\n",
       "      <td>6.699516</td>\n",
       "      <td>3</td>\n",
       "      <td>103</td>\n",
       "      <td>1</td>\n",
       "      <td>0</td>\n",
       "      <td>1</td>\n",
       "      <td>1</td>\n",
       "      <td>0</td>\n",
       "    </tr>\n",
       "    <tr>\n",
       "      <th>9037</th>\n",
       "      <td>1.0</td>\n",
       "      <td>48</td>\n",
       "      <td>24</td>\n",
       "      <td>130</td>\n",
       "      <td>1</td>\n",
       "      <td>1.123218</td>\n",
       "      <td>2</td>\n",
       "      <td>0</td>\n",
       "      <td>1</td>\n",
       "      <td>0</td>\n",
       "      <td>0</td>\n",
       "      <td>1</td>\n",
       "      <td>0</td>\n",
       "    </tr>\n",
       "    <tr>\n",
       "      <th>9038</th>\n",
       "      <td>1.0</td>\n",
       "      <td>55</td>\n",
       "      <td>31</td>\n",
       "      <td>103</td>\n",
       "      <td>3</td>\n",
       "      <td>3.783461</td>\n",
       "      <td>2</td>\n",
       "      <td>0</td>\n",
       "      <td>1</td>\n",
       "      <td>0</td>\n",
       "      <td>0</td>\n",
       "      <td>0</td>\n",
       "      <td>0</td>\n",
       "    </tr>\n",
       "    <tr>\n",
       "      <th>9039</th>\n",
       "      <td>1.0</td>\n",
       "      <td>37</td>\n",
       "      <td>12</td>\n",
       "      <td>183</td>\n",
       "      <td>1</td>\n",
       "      <td>0.583853</td>\n",
       "      <td>2</td>\n",
       "      <td>230</td>\n",
       "      <td>1</td>\n",
       "      <td>0</td>\n",
       "      <td>0</td>\n",
       "      <td>1</td>\n",
       "      <td>0</td>\n",
       "    </tr>\n",
       "  </tbody>\n",
       "</table>\n",
       "<p>9040 rows × 13 columns</p>\n",
       "</div>"
      ],
      "text/plain": [
       "      const  Age  Experience  Income  Family     CCAvg  Education  Mortgage  \\\n",
       "0       1.0   25           1      49       4  1.600000          1         0   \n",
       "1       1.0   45          19      34       3  1.500000          1         0   \n",
       "2       1.0   39          15      11       1  1.000000          1         0   \n",
       "3       1.0   35           9     100       1  2.700000          2         0   \n",
       "4       1.0   35           8      45       4  1.000000          2         0   \n",
       "...     ...  ...         ...     ...     ...       ...        ...       ...   \n",
       "9035    1.0   47          22     160       2  4.105395          3       250   \n",
       "9036    1.0   62          36     169       2  6.699516          3       103   \n",
       "9037    1.0   48          24     130       1  1.123218          2         0   \n",
       "9038    1.0   55          31     103       3  3.783461          2         0   \n",
       "9039    1.0   37          12     183       1  0.583853          2       230   \n",
       "\n",
       "      Personal Loan  Securities Account  CD Account  Online  CreditCard  \n",
       "0                 0                   1           0       0           0  \n",
       "1                 0                   1           0       0           0  \n",
       "2                 0                   0           0       0           0  \n",
       "3                 0                   0           0       0           0  \n",
       "4                 0                   0           0       0           1  \n",
       "...             ...                 ...         ...     ...         ...  \n",
       "9035              1                   0           0       0           0  \n",
       "9036              1                   0           1       1           0  \n",
       "9037              1                   0           0       1           0  \n",
       "9038              1                   0           0       0           0  \n",
       "9039              1                   0           0       1           0  \n",
       "\n",
       "[9040 rows x 13 columns]"
      ]
     },
     "execution_count": 42,
     "metadata": {},
     "output_type": "execute_result"
    }
   ],
   "source": [
    "import statsmodels.api as sm\n",
    "\n",
    "Xc = sm.add_constant(X_bal)\n",
    "Xc"
   ]
  },
  {
   "cell_type": "code",
   "execution_count": 44,
   "metadata": {},
   "outputs": [
    {
     "name": "stdout",
     "output_type": "stream",
     "text": [
      "Warning: Maximum number of iterations has been exceeded.\n",
      "         Current function value: 0.001347\n",
      "         Iterations: 35\n",
      "         Function evaluations: 40\n",
      "         Gradient evaluations: 40\n"
     ]
    },
    {
     "name": "stderr",
     "output_type": "stream",
     "text": [
      "F:\\Anaconda_3\\lib\\site-packages\\statsmodels\\base\\model.py:567: ConvergenceWarning: Maximum Likelihood optimization failed to converge. Check mle_retvals\n",
      "  warn(\"Maximum Likelihood optimization failed to converge. \"\n"
     ]
    },
    {
     "data": {
      "text/html": [
       "<table class=\"simpletable\">\n",
       "<caption>Logit Regression Results</caption>\n",
       "<tr>\n",
       "  <th>Dep. Variable:</th>     <td>Personal Loan</td>  <th>  No. Observations:  </th>  <td>  9040</td> \n",
       "</tr>\n",
       "<tr>\n",
       "  <th>Model:</th>                 <td>Logit</td>      <th>  Df Residuals:      </th>  <td>  9027</td> \n",
       "</tr>\n",
       "<tr>\n",
       "  <th>Method:</th>                 <td>MLE</td>       <th>  Df Model:          </th>  <td>    12</td> \n",
       "</tr>\n",
       "<tr>\n",
       "  <th>Date:</th>            <td>Tue, 28 Jul 2020</td> <th>  Pseudo R-squ.:     </th>  <td>0.9981</td> \n",
       "</tr>\n",
       "<tr>\n",
       "  <th>Time:</th>                <td>16:47:26</td>     <th>  Log-Likelihood:    </th> <td> -12.173</td>\n",
       "</tr>\n",
       "<tr>\n",
       "  <th>converged:</th>             <td>False</td>      <th>  LL-Null:           </th> <td> -6266.1</td>\n",
       "</tr>\n",
       "<tr>\n",
       "  <th>Covariance Type:</th>     <td>nonrobust</td>    <th>  LLR p-value:       </th>  <td> 0.000</td> \n",
       "</tr>\n",
       "</table>\n",
       "<table class=\"simpletable\">\n",
       "<tr>\n",
       "           <td></td>             <th>coef</th>     <th>std err</th>      <th>z</th>      <th>P>|z|</th>  <th>[0.025</th>    <th>0.975]</th>  \n",
       "</tr>\n",
       "<tr>\n",
       "  <th>const</th>              <td>   -0.4762</td> <td>    8.852</td> <td>   -0.054</td> <td> 0.957</td> <td>  -17.826</td> <td>   16.873</td>\n",
       "</tr>\n",
       "<tr>\n",
       "  <th>Age</th>                <td>   -1.0699</td> <td>    0.373</td> <td>   -2.868</td> <td> 0.004</td> <td>   -1.801</td> <td>   -0.339</td>\n",
       "</tr>\n",
       "<tr>\n",
       "  <th>Experience</th>         <td>    1.0655</td> <td>    0.374</td> <td>    2.845</td> <td> 0.004</td> <td>    0.332</td> <td>    1.800</td>\n",
       "</tr>\n",
       "<tr>\n",
       "  <th>Income</th>             <td>    0.0360</td> <td>    0.014</td> <td>    2.661</td> <td> 0.008</td> <td>    0.009</td> <td>    0.063</td>\n",
       "</tr>\n",
       "<tr>\n",
       "  <th>Family</th>             <td>    1.2883</td> <td>    0.441</td> <td>    2.918</td> <td> 0.004</td> <td>    0.423</td> <td>    2.153</td>\n",
       "</tr>\n",
       "<tr>\n",
       "  <th>CCAvg</th>              <td>    1.1272</td> <td>    0.379</td> <td>    2.973</td> <td> 0.003</td> <td>    0.384</td> <td>    1.870</td>\n",
       "</tr>\n",
       "<tr>\n",
       "  <th>Education</th>          <td>    5.0687</td> <td>    1.450</td> <td>    3.496</td> <td> 0.000</td> <td>    2.227</td> <td>    7.910</td>\n",
       "</tr>\n",
       "<tr>\n",
       "  <th>Mortgage</th>           <td>   -0.0013</td> <td>    0.003</td> <td>   -0.415</td> <td> 0.678</td> <td>   -0.007</td> <td>    0.005</td>\n",
       "</tr>\n",
       "<tr>\n",
       "  <th>Personal Loan</th>      <td>   22.4867</td> <td>    3.514</td> <td>    6.399</td> <td> 0.000</td> <td>   15.600</td> <td>   29.374</td>\n",
       "</tr>\n",
       "<tr>\n",
       "  <th>Securities Account</th> <td>   -1.4220</td> <td>    1.376</td> <td>   -1.034</td> <td> 0.301</td> <td>   -4.119</td> <td>    1.275</td>\n",
       "</tr>\n",
       "<tr>\n",
       "  <th>CD Account</th>         <td>    1.4280</td> <td>    2.121</td> <td>    0.673</td> <td> 0.501</td> <td>   -2.729</td> <td>    5.585</td>\n",
       "</tr>\n",
       "<tr>\n",
       "  <th>Online</th>             <td>   -3.9225</td> <td>    1.362</td> <td>   -2.881</td> <td> 0.004</td> <td>   -6.591</td> <td>   -1.254</td>\n",
       "</tr>\n",
       "<tr>\n",
       "  <th>CreditCard</th>         <td>   -3.7026</td> <td>    1.654</td> <td>   -2.239</td> <td> 0.025</td> <td>   -6.944</td> <td>   -0.461</td>\n",
       "</tr>\n",
       "</table><br/><br/>Possibly complete quasi-separation: A fraction 0.86 of observations can be<br/>perfectly predicted. This might indicate that there is complete<br/>quasi-separation. In this case some parameters will not be identified."
      ],
      "text/plain": [
       "<class 'statsmodels.iolib.summary.Summary'>\n",
       "\"\"\"\n",
       "                           Logit Regression Results                           \n",
       "==============================================================================\n",
       "Dep. Variable:          Personal Loan   No. Observations:                 9040\n",
       "Model:                          Logit   Df Residuals:                     9027\n",
       "Method:                           MLE   Df Model:                           12\n",
       "Date:                Tue, 28 Jul 2020   Pseudo R-squ.:                  0.9981\n",
       "Time:                        16:47:26   Log-Likelihood:                -12.173\n",
       "converged:                      False   LL-Null:                       -6266.1\n",
       "Covariance Type:            nonrobust   LLR p-value:                     0.000\n",
       "======================================================================================\n",
       "                         coef    std err          z      P>|z|      [0.025      0.975]\n",
       "--------------------------------------------------------------------------------------\n",
       "const                 -0.4762      8.852     -0.054      0.957     -17.826      16.873\n",
       "Age                   -1.0699      0.373     -2.868      0.004      -1.801      -0.339\n",
       "Experience             1.0655      0.374      2.845      0.004       0.332       1.800\n",
       "Income                 0.0360      0.014      2.661      0.008       0.009       0.063\n",
       "Family                 1.2883      0.441      2.918      0.004       0.423       2.153\n",
       "CCAvg                  1.1272      0.379      2.973      0.003       0.384       1.870\n",
       "Education              5.0687      1.450      3.496      0.000       2.227       7.910\n",
       "Mortgage              -0.0013      0.003     -0.415      0.678      -0.007       0.005\n",
       "Personal Loan         22.4867      3.514      6.399      0.000      15.600      29.374\n",
       "Securities Account    -1.4220      1.376     -1.034      0.301      -4.119       1.275\n",
       "CD Account             1.4280      2.121      0.673      0.501      -2.729       5.585\n",
       "Online                -3.9225      1.362     -2.881      0.004      -6.591      -1.254\n",
       "CreditCard            -3.7026      1.654     -2.239      0.025      -6.944      -0.461\n",
       "======================================================================================\n",
       "\n",
       "Possibly complete quasi-separation: A fraction 0.86 of observations can be\n",
       "perfectly predicted. This might indicate that there is complete\n",
       "quasi-separation. In this case some parameters will not be identified.\n",
       "\"\"\""
      ]
     },
     "execution_count": 44,
     "metadata": {},
     "output_type": "execute_result"
    }
   ],
   "source": [
    "model = sm.Logit(y_bal, Xc).fit(method='bfgs')\n",
    "model.summary()"
   ]
  },
  {
   "cell_type": "code",
   "execution_count": 54,
   "metadata": {},
   "outputs": [],
   "source": [
    "lr = LogisticRegression(max_iter=5000)\n",
    "lr.fit(X_train_sm, y_train_sm)\n",
    "y_pred = lr.predict(X_test_sm)"
   ]
  },
  {
   "cell_type": "code",
   "execution_count": 55,
   "metadata": {},
   "outputs": [
    {
     "name": "stdout",
     "output_type": "stream",
     "text": [
      "Accuracy score: 1.00\n",
      "Train score: 1.00\n",
      "Test score: 1.00\n"
     ]
    }
   ],
   "source": [
    "accuracy = accuracy_score(y_test_sm, y_pred)\n",
    "print(\"Accuracy score: {0:.2f}\".format(accuracy))\n",
    "print(\"Train score: {0:0.2f}\".format(lr.score(X_train_sm, y_train_sm)))\n",
    "print(\"Test score: {0:0.2f}\".format(lr.score(X_test_sm, y_test_sm)))"
   ]
  },
  {
   "cell_type": "code",
   "execution_count": 56,
   "metadata": {},
   "outputs": [
    {
     "name": "stdout",
     "output_type": "stream",
     "text": [
      "              precision    recall  f1-score   support\n",
      "\n",
      "           0       1.00      1.00      1.00      1356\n",
      "           1       1.00      1.00      1.00      1356\n",
      "\n",
      "    accuracy                           1.00      2712\n",
      "   macro avg       1.00      1.00      1.00      2712\n",
      "weighted avg       1.00      1.00      1.00      2712\n",
      "\n"
     ]
    }
   ],
   "source": [
    "print(classification_report(y_test_sm, y_pred))"
   ]
  },
  {
   "cell_type": "code",
   "execution_count": 57,
   "metadata": {},
   "outputs": [
    {
     "name": "stdout",
     "output_type": "stream",
     "text": [
      "[[1356    0]\n",
      " [   0 1356]]\n"
     ]
    }
   ],
   "source": [
    "print(confusion_matrix(y_test_sm, y_pred))"
   ]
  },
  {
   "cell_type": "code",
   "execution_count": 73,
   "metadata": {},
   "outputs": [
    {
     "name": "stdout",
     "output_type": "stream",
     "text": [
      "The report for Th =  0.2\n",
      "[[1356    0]\n",
      " [   0 1356]]\n",
      "              precision    recall  f1-score   support\n",
      "\n",
      "           0       1.00      1.00      1.00      1356\n",
      "           1       1.00      1.00      1.00      1356\n",
      "\n",
      "    accuracy                           1.00      2712\n",
      "   macro avg       1.00      1.00      1.00      2712\n",
      "weighted avg       1.00      1.00      1.00      2712\n",
      "\n",
      "The report for Th =  0.3\n",
      "[[1356    0]\n",
      " [   0 1356]]\n",
      "              precision    recall  f1-score   support\n",
      "\n",
      "           0       1.00      1.00      1.00      1356\n",
      "           1       1.00      1.00      1.00      1356\n",
      "\n",
      "    accuracy                           1.00      2712\n",
      "   macro avg       1.00      1.00      1.00      2712\n",
      "weighted avg       1.00      1.00      1.00      2712\n",
      "\n",
      "The report for Th =  0.4\n",
      "[[1356    0]\n",
      " [   0 1356]]\n",
      "              precision    recall  f1-score   support\n",
      "\n",
      "           0       1.00      1.00      1.00      1356\n",
      "           1       1.00      1.00      1.00      1356\n",
      "\n",
      "    accuracy                           1.00      2712\n",
      "   macro avg       1.00      1.00      1.00      2712\n",
      "weighted avg       1.00      1.00      1.00      2712\n",
      "\n",
      "The report for Th =  0.5\n",
      "[[1356    0]\n",
      " [   0 1356]]\n",
      "              precision    recall  f1-score   support\n",
      "\n",
      "           0       1.00      1.00      1.00      1356\n",
      "           1       1.00      1.00      1.00      1356\n",
      "\n",
      "    accuracy                           1.00      2712\n",
      "   macro avg       1.00      1.00      1.00      2712\n",
      "weighted avg       1.00      1.00      1.00      2712\n",
      "\n",
      "The report for Th =  0.6\n",
      "[[1356    0]\n",
      " [   0 1356]]\n",
      "              precision    recall  f1-score   support\n",
      "\n",
      "           0       1.00      1.00      1.00      1356\n",
      "           1       1.00      1.00      1.00      1356\n",
      "\n",
      "    accuracy                           1.00      2712\n",
      "   macro avg       1.00      1.00      1.00      2712\n",
      "weighted avg       1.00      1.00      1.00      2712\n",
      "\n",
      "The report for Th =  0.8\n",
      "[[1356    0]\n",
      " [   0 1356]]\n",
      "              precision    recall  f1-score   support\n",
      "\n",
      "           0       1.00      1.00      1.00      1356\n",
      "           1       1.00      1.00      1.00      1356\n",
      "\n",
      "    accuracy                           1.00      2712\n",
      "   macro avg       1.00      1.00      1.00      2712\n",
      "weighted avg       1.00      1.00      1.00      2712\n",
      "\n"
     ]
    }
   ],
   "source": [
    "prob=lr.predict_proba(X_test_sm)\n",
    "prob_1=prob[:,1]\n",
    "ypred1=np.zeros([len(y_test_sm),1])\n",
    "for i in [0.2,0.3,0.4,0.5,0.6,0.8]:\n",
    "    ypred1=np.zeros([len(y_test_sm),1])\n",
    "    ypred1[prob_1>=i]=1\n",
    "    print(\"The report for Th = \",i)\n",
    "    print(confusion_matrix(y_test_sm,ypred1))\n",
    "    print(classification_report(y_test_sm,ypred1))"
   ]
  },
  {
   "cell_type": "raw",
   "metadata": {},
   "source": [
    " from sklearn.metrics import roc_auc_score\n",
    "\n",
    "fpr, tpr, thresholds = roc_curve(y_test_sm, prob_1)\n",
    "plt.plot(fpr, tpr)\n",
    "plt.xlim(0.0, 1.0)\n",
    "plt.ylim(0.0, 1.0)\n",
    "plt.title(\"ROC Curve for Personal Loan\")\n",
    "plt.xlabel('False Positive Rate (1-Specificity)')\n",
    "plt.ylabel('True Positive Rate (Sensitivity)')\n",
    "plt.grid(True)"
   ]
  },
  {
   "cell_type": "code",
   "execution_count": null,
   "metadata": {},
   "outputs": [],
   "source": []
  },
  {
   "cell_type": "markdown",
   "metadata": {},
   "source": [
    "### Model2: Decision Tree"
   ]
  },
  {
   "cell_type": "code",
   "execution_count": 74,
   "metadata": {},
   "outputs": [],
   "source": [
    "X_train_sm, X_test_sm, y_train_sm, y_test_sm = train_test_split( X_bal, y_bal, test_size=0.30, random_state=42)"
   ]
  },
  {
   "cell_type": "code",
   "execution_count": 79,
   "metadata": {},
   "outputs": [],
   "source": [
    "dt = DecisionTreeClassifier()\n",
    "dt.fit(X_train_sm, y_train_sm)\n",
    "y_pred = dt.predict(X_test_sm)"
   ]
  },
  {
   "cell_type": "code",
   "execution_count": 81,
   "metadata": {},
   "outputs": [
    {
     "name": "stdout",
     "output_type": "stream",
     "text": [
      "Accuracy score: 1.00\n",
      "Train score: 1.00\n",
      "Test score: 1.00\n"
     ]
    }
   ],
   "source": [
    "accuracy = accuracy_score(y_test_sm, y_pred)\n",
    "print(\"Accuracy score: {0:.2f}\".format(accuracy))\n",
    "print(\"Train score: {0:0.2f}\".format(lr.score(X_train_sm, y_train_sm)))\n",
    "print(\"Test score: {0:0.2f}\".format(lr.score(X_test_sm, y_test_sm)))"
   ]
  },
  {
   "cell_type": "code",
   "execution_count": 82,
   "metadata": {},
   "outputs": [
    {
     "name": "stdout",
     "output_type": "stream",
     "text": [
      "              precision    recall  f1-score   support\n",
      "\n",
      "           0       1.00      1.00      1.00      1383\n",
      "           1       1.00      1.00      1.00      1329\n",
      "\n",
      "    accuracy                           1.00      2712\n",
      "   macro avg       1.00      1.00      1.00      2712\n",
      "weighted avg       1.00      1.00      1.00      2712\n",
      "\n"
     ]
    }
   ],
   "source": [
    "print(classification_report(y_test_sm, y_pred))"
   ]
  },
  {
   "cell_type": "code",
   "execution_count": 83,
   "metadata": {},
   "outputs": [
    {
     "name": "stdout",
     "output_type": "stream",
     "text": [
      "[[1383    0]\n",
      " [   0 1329]]\n"
     ]
    }
   ],
   "source": [
    "print(confusion_matrix(y_test_sm, y_pred))"
   ]
  },
  {
   "cell_type": "markdown",
   "metadata": {},
   "source": [
    "### Hyperparameter Tuning"
   ]
  },
  {
   "cell_type": "code",
   "execution_count": 138,
   "metadata": {},
   "outputs": [],
   "source": [
    "from sklearn.model_selection import KFold\n",
    "from sklearn.model_selection import GridSearchCV"
   ]
  },
  {
   "cell_type": "code",
   "execution_count": 140,
   "metadata": {},
   "outputs": [],
   "source": [
    "params = {'max_depth': range(5, 20, 5), 'min_samples_leaf': range(20, 100, 20), 'min_samples_split':range(20,100,20),\n",
    "         'criterion':['gini', 'entropy']}"
   ]
  },
  {
   "cell_type": "code",
   "execution_count": 141,
   "metadata": {},
   "outputs": [],
   "source": [
    "dt_mod = DecisionTreeClassifier()\n",
    "fin_mod = GridSearchCV(dt_mod, param_grid=params, scoring='f1', return_train_score=True)"
   ]
  },
  {
   "cell_type": "code",
   "execution_count": 142,
   "metadata": {},
   "outputs": [
    {
     "data": {
      "text/plain": [
       "GridSearchCV(estimator=DecisionTreeClassifier(),\n",
       "             param_grid={'criterion': ['gini', 'entropy'],\n",
       "                         'max_depth': range(5, 20, 5),\n",
       "                         'min_samples_leaf': range(20, 100, 20),\n",
       "                         'min_samples_split': range(20, 100, 20)},\n",
       "             return_train_score=True, scoring='f1')"
      ]
     },
     "execution_count": 142,
     "metadata": {},
     "output_type": "execute_result"
    }
   ],
   "source": [
    "fin_mod.fit(X_train_sm, y_train_sm)"
   ]
  },
  {
   "cell_type": "code",
   "execution_count": 143,
   "metadata": {},
   "outputs": [
    {
     "data": {
      "text/plain": [
       "{'criterion': 'gini',\n",
       " 'max_depth': 5,\n",
       " 'min_samples_leaf': 20,\n",
       " 'min_samples_split': 20}"
      ]
     },
     "execution_count": 143,
     "metadata": {},
     "output_type": "execute_result"
    }
   ],
   "source": [
    "fin_mod.best_params_"
   ]
  },
  {
   "cell_type": "code",
   "execution_count": 144,
   "metadata": {},
   "outputs": [
    {
     "data": {
      "text/plain": [
       "1.0"
      ]
     },
     "execution_count": 144,
     "metadata": {},
     "output_type": "execute_result"
    }
   ],
   "source": [
    "fin_mod.best_score_"
   ]
  },
  {
   "cell_type": "code",
   "execution_count": null,
   "metadata": {},
   "outputs": [],
   "source": [
    "fin_mod = RandomForestClassifier(**tun_mod.best_params_, oob_score=True)"
   ]
  },
  {
   "cell_type": "code",
   "execution_count": 145,
   "metadata": {},
   "outputs": [],
   "source": [
    "final_model = DecisionTreeClassifier(**fin_mod.best_params_)"
   ]
  },
  {
   "cell_type": "code",
   "execution_count": 146,
   "metadata": {},
   "outputs": [
    {
     "data": {
      "text/plain": [
       "DecisionTreeClassifier(max_depth=5, min_samples_leaf=20, min_samples_split=20)"
      ]
     },
     "execution_count": 146,
     "metadata": {},
     "output_type": "execute_result"
    }
   ],
   "source": [
    "final_model.fit(X_train_sm, y_train_sm)"
   ]
  },
  {
   "cell_type": "code",
   "execution_count": 147,
   "metadata": {},
   "outputs": [],
   "source": [
    "y_pred = final_model.predict(X_test_sm)\n",
    "y_pred_train = final_model.predict(X_train_sm)"
   ]
  },
  {
   "cell_type": "code",
   "execution_count": 148,
   "metadata": {},
   "outputs": [
    {
     "name": "stdout",
     "output_type": "stream",
     "text": [
      "              precision    recall  f1-score   support\n",
      "\n",
      "           0       1.00      1.00      1.00      1383\n",
      "           1       1.00      1.00      1.00      1329\n",
      "\n",
      "    accuracy                           1.00      2712\n",
      "   macro avg       1.00      1.00      1.00      2712\n",
      "weighted avg       1.00      1.00      1.00      2712\n",
      "\n"
     ]
    }
   ],
   "source": [
    "print(classification_report(y_test_sm,y_pred))"
   ]
  },
  {
   "cell_type": "code",
   "execution_count": null,
   "metadata": {},
   "outputs": [],
   "source": []
  },
  {
   "cell_type": "markdown",
   "metadata": {},
   "source": [
    "### Model 3: Random Forest"
   ]
  },
  {
   "cell_type": "code",
   "execution_count": 85,
   "metadata": {},
   "outputs": [],
   "source": [
    "X_train, X_test, y_train, y_test = train_test_split( X, y, test_size=0.30, random_state=42)"
   ]
  },
  {
   "cell_type": "code",
   "execution_count": 86,
   "metadata": {},
   "outputs": [],
   "source": [
    "rf = RandomForestClassifier()\n",
    "rf.fit(X_train, y_train)\n",
    "y_pred = rf.predict(X_test)"
   ]
  },
  {
   "cell_type": "code",
   "execution_count": 87,
   "metadata": {},
   "outputs": [
    {
     "name": "stdout",
     "output_type": "stream",
     "text": [
      "Accuracy score: 1.0\n",
      "Train score: 1.0\n",
      "Test score: 1.0\n"
     ]
    }
   ],
   "source": [
    "print(\"Accuracy score: {}\".format(accuracy_score(y_test, y_pred)))\n",
    "print(\"Train score: {}\".format(rf.score(X_train, y_train)))\n",
    "print(\"Test score: {}\".format(rf.score(X_test, y_test)))"
   ]
  },
  {
   "cell_type": "code",
   "execution_count": 88,
   "metadata": {},
   "outputs": [
    {
     "name": "stdout",
     "output_type": "stream",
     "text": [
      "              precision    recall  f1-score   support\n",
      "\n",
      "           0       1.00      1.00      1.00      1343\n",
      "           1       1.00      1.00      1.00       157\n",
      "\n",
      "    accuracy                           1.00      1500\n",
      "   macro avg       1.00      1.00      1.00      1500\n",
      "weighted avg       1.00      1.00      1.00      1500\n",
      "\n"
     ]
    }
   ],
   "source": [
    "print(classification_report(y_test, y_pred))"
   ]
  },
  {
   "cell_type": "code",
   "execution_count": 89,
   "metadata": {},
   "outputs": [
    {
     "name": "stdout",
     "output_type": "stream",
     "text": [
      "[[1343    0]\n",
      " [   0  157]]\n"
     ]
    }
   ],
   "source": [
    "print(confusion_matrix(y_test, y_pred))"
   ]
  },
  {
   "cell_type": "markdown",
   "metadata": {},
   "source": [
    "#### Tuning and Hyperparameters"
   ]
  },
  {
   "cell_type": "code",
   "execution_count": 90,
   "metadata": {},
   "outputs": [],
   "source": [
    "params = {'n_estimators':[20,30,40,50,60], 'ccp_alpha':[0.1, 0.15], 'max_features':['auto','sqrt','log2'],\n",
    "         'criterion':['gini', 'entropy']}"
   ]
  },
  {
   "cell_type": "code",
   "execution_count": 91,
   "metadata": {},
   "outputs": [],
   "source": [
    "from sklearn.model_selection import GridSearchCV"
   ]
  },
  {
   "cell_type": "code",
   "execution_count": 93,
   "metadata": {},
   "outputs": [],
   "source": [
    "rf_mod1 = RandomForestClassifier()\n",
    "hyp_mod = GridSearchCV(rf_mod1, param_grid=params, scoring='f1', return_train_score=True)"
   ]
  },
  {
   "cell_type": "code",
   "execution_count": 95,
   "metadata": {},
   "outputs": [],
   "source": [
    "tun_mod = hyp_mod.fit(X_train, y_train)"
   ]
  },
  {
   "cell_type": "code",
   "execution_count": 96,
   "metadata": {},
   "outputs": [
    {
     "data": {
      "text/plain": [
       "{'ccp_alpha': 0.1,\n",
       " 'criterion': 'entropy',\n",
       " 'max_features': 'log2',\n",
       " 'n_estimators': 60}"
      ]
     },
     "execution_count": 96,
     "metadata": {},
     "output_type": "execute_result"
    }
   ],
   "source": [
    "tun_mod.best_params_"
   ]
  },
  {
   "cell_type": "code",
   "execution_count": 97,
   "metadata": {},
   "outputs": [
    {
     "data": {
      "text/plain": [
       "RandomForestClassifier(ccp_alpha=0.1, criterion='entropy', max_features='log2',\n",
       "                       n_estimators=60)"
      ]
     },
     "execution_count": 97,
     "metadata": {},
     "output_type": "execute_result"
    }
   ],
   "source": [
    "tun_mod.best_estimator_"
   ]
  },
  {
   "cell_type": "code",
   "execution_count": 99,
   "metadata": {},
   "outputs": [
    {
     "data": {
      "text/plain": [
       "0.9726406729029143"
      ]
     },
     "execution_count": 99,
     "metadata": {},
     "output_type": "execute_result"
    }
   ],
   "source": [
    "tun_mod.best_score_"
   ]
  },
  {
   "cell_type": "code",
   "execution_count": 100,
   "metadata": {},
   "outputs": [
    {
     "data": {
      "text/plain": [
       "(60, 24)"
      ]
     },
     "execution_count": 100,
     "metadata": {},
     "output_type": "execute_result"
    }
   ],
   "source": [
    "cvres = pd.DataFrame(hyp_mod.cv_results_)\n",
    "cvres.shape"
   ]
  },
  {
   "cell_type": "code",
   "execution_count": 107,
   "metadata": {
    "scrolled": false
   },
   "outputs": [
    {
     "data": {
      "text/html": [
       "<div>\n",
       "<style scoped>\n",
       "    .dataframe tbody tr th:only-of-type {\n",
       "        vertical-align: middle;\n",
       "    }\n",
       "\n",
       "    .dataframe tbody tr th {\n",
       "        vertical-align: top;\n",
       "    }\n",
       "\n",
       "    .dataframe thead th {\n",
       "        text-align: right;\n",
       "    }\n",
       "</style>\n",
       "<table border=\"1\" class=\"dataframe\">\n",
       "  <thead>\n",
       "    <tr style=\"text-align: right;\">\n",
       "      <th></th>\n",
       "      <th>mean_fit_time</th>\n",
       "      <th>std_fit_time</th>\n",
       "      <th>mean_score_time</th>\n",
       "      <th>std_score_time</th>\n",
       "      <th>param_ccp_alpha</th>\n",
       "      <th>param_criterion</th>\n",
       "      <th>param_max_features</th>\n",
       "      <th>param_n_estimators</th>\n",
       "      <th>params</th>\n",
       "      <th>split0_test_score</th>\n",
       "      <th>...</th>\n",
       "      <th>mean_test_score</th>\n",
       "      <th>std_test_score</th>\n",
       "      <th>rank_test_score</th>\n",
       "      <th>split0_train_score</th>\n",
       "      <th>split1_train_score</th>\n",
       "      <th>split2_train_score</th>\n",
       "      <th>split3_train_score</th>\n",
       "      <th>split4_train_score</th>\n",
       "      <th>mean_train_score</th>\n",
       "      <th>std_train_score</th>\n",
       "    </tr>\n",
       "  </thead>\n",
       "  <tbody>\n",
       "    <tr>\n",
       "      <th>29</th>\n",
       "      <td>0.206907</td>\n",
       "      <td>0.002191</td>\n",
       "      <td>0.017389</td>\n",
       "      <td>0.00049</td>\n",
       "      <td>0.1</td>\n",
       "      <td>entropy</td>\n",
       "      <td>log2</td>\n",
       "      <td>60</td>\n",
       "      <td>{'ccp_alpha': 0.1, 'criterion': 'entropy', 'ma...</td>\n",
       "      <td>0.992126</td>\n",
       "      <td>...</td>\n",
       "      <td>0.972641</td>\n",
       "      <td>0.021031</td>\n",
       "      <td>1</td>\n",
       "      <td>0.959839</td>\n",
       "      <td>0.988281</td>\n",
       "      <td>0.986248</td>\n",
       "      <td>0.963855</td>\n",
       "      <td>0.97006</td>\n",
       "      <td>0.973657</td>\n",
       "      <td>0.011596</td>\n",
       "    </tr>\n",
       "  </tbody>\n",
       "</table>\n",
       "<p>1 rows × 24 columns</p>\n",
       "</div>"
      ],
      "text/plain": [
       "    mean_fit_time  std_fit_time  mean_score_time  std_score_time  \\\n",
       "29       0.206907      0.002191         0.017389         0.00049   \n",
       "\n",
       "   param_ccp_alpha param_criterion param_max_features param_n_estimators  \\\n",
       "29             0.1         entropy               log2                 60   \n",
       "\n",
       "                                               params  split0_test_score  ...  \\\n",
       "29  {'ccp_alpha': 0.1, 'criterion': 'entropy', 'ma...           0.992126  ...   \n",
       "\n",
       "    mean_test_score  std_test_score  rank_test_score  split0_train_score  \\\n",
       "29         0.972641        0.021031                1            0.959839   \n",
       "\n",
       "    split1_train_score  split2_train_score  split3_train_score  \\\n",
       "29            0.988281            0.986248            0.963855   \n",
       "\n",
       "    split4_train_score  mean_train_score  std_train_score  \n",
       "29             0.97006          0.973657         0.011596  \n",
       "\n",
       "[1 rows x 24 columns]"
      ]
     },
     "execution_count": 107,
     "metadata": {},
     "output_type": "execute_result"
    }
   ],
   "source": [
    "cvres[cvres['rank_test_score']==1]"
   ]
  },
  {
   "cell_type": "code",
   "execution_count": 109,
   "metadata": {},
   "outputs": [],
   "source": [
    "fin_mod = RandomForestClassifier(**tun_mod.best_params_, oob_score=True)"
   ]
  },
  {
   "cell_type": "code",
   "execution_count": 111,
   "metadata": {},
   "outputs": [
    {
     "data": {
      "text/plain": [
       "RandomForestClassifier(ccp_alpha=0.1, criterion='entropy', max_features='log2',\n",
       "                       n_estimators=60, oob_score=True)"
      ]
     },
     "execution_count": 111,
     "metadata": {},
     "output_type": "execute_result"
    }
   ],
   "source": [
    "fin_mod.fit(X_train_sm, y_train_sm)"
   ]
  },
  {
   "cell_type": "code",
   "execution_count": 112,
   "metadata": {},
   "outputs": [],
   "source": [
    "y_pred = fin_mod.predict(X_test_sm)\n",
    "y_pred_train = fin_mod.predict(X_train_sm)"
   ]
  },
  {
   "cell_type": "code",
   "execution_count": 113,
   "metadata": {},
   "outputs": [
    {
     "name": "stdout",
     "output_type": "stream",
     "text": [
      "              precision    recall  f1-score   support\n",
      "\n",
      "           0       1.00      1.00      1.00      1383\n",
      "           1       1.00      1.00      1.00      1329\n",
      "\n",
      "    accuracy                           1.00      2712\n",
      "   macro avg       1.00      1.00      1.00      2712\n",
      "weighted avg       1.00      1.00      1.00      2712\n",
      "\n"
     ]
    }
   ],
   "source": [
    "print(classification_report(y_test_sm,y_pred))"
   ]
  },
  {
   "cell_type": "code",
   "execution_count": 115,
   "metadata": {},
   "outputs": [
    {
     "data": {
      "text/plain": [
       "0.9985777496839444"
      ]
     },
     "execution_count": 115,
     "metadata": {},
     "output_type": "execute_result"
    }
   ],
   "source": [
    "fin_mod.oob_score_"
   ]
  },
  {
   "cell_type": "code",
   "execution_count": null,
   "metadata": {},
   "outputs": [],
   "source": []
  },
  {
   "cell_type": "markdown",
   "metadata": {},
   "source": [
    "### Model 4: Bagging Model"
   ]
  },
  {
   "cell_type": "code",
   "execution_count": 119,
   "metadata": {},
   "outputs": [],
   "source": [
    "from sklearn.ensemble import BaggingClassifier\n",
    "from sklearn.model_selection import cross_val_score, KFold"
   ]
  },
  {
   "cell_type": "code",
   "execution_count": 117,
   "metadata": {},
   "outputs": [],
   "source": [
    "clf1 = DecisionTreeClassifier(random_state=0)\n",
    "clf2 = KNeighborsClassifier(n_neighbors=5)"
   ]
  },
  {
   "cell_type": "code",
   "execution_count": 118,
   "metadata": {},
   "outputs": [],
   "source": [
    "bagging1 = BaggingClassifier(base_estimator=clf1, n_estimators=10, max_samples=0.8, oob_score=True, random_state=0)\n",
    "bagging2 = BaggingClassifier(base_estimator=clf2, n_estimators=10, max_samples=0.8, oob_score=True, random_state=0)"
   ]
  },
  {
   "cell_type": "code",
   "execution_count": 123,
   "metadata": {},
   "outputs": [],
   "source": [
    "import warnings\n",
    "warnings.simplefilter(\"ignore\")"
   ]
  },
  {
   "cell_type": "code",
   "execution_count": 124,
   "metadata": {},
   "outputs": [],
   "source": [
    "kf = KFold(n_splits=5, shuffle=True, random_state=0)\n",
    "score1 = cross_val_score(clf1, X_bal, y_bal, cv=kf, scoring='accuracy')\n",
    "score2 = cross_val_score(bagging1, X_bal, y_bal, cv=kf, scoring='accuracy')\n",
    "score3 = cross_val_score(bagging2, X_bal, y_bal, cv=kf, scoring='accuracy')"
   ]
  },
  {
   "cell_type": "code",
   "execution_count": 125,
   "metadata": {},
   "outputs": [
    {
     "data": {
      "text/plain": [
       "(1.0, 0.0)"
      ]
     },
     "execution_count": 125,
     "metadata": {},
     "output_type": "execute_result"
    }
   ],
   "source": [
    "np.mean(score1), np.std(score1)"
   ]
  },
  {
   "cell_type": "code",
   "execution_count": 126,
   "metadata": {},
   "outputs": [
    {
     "data": {
      "text/plain": [
       "(1.0, 0.0)"
      ]
     },
     "execution_count": 126,
     "metadata": {},
     "output_type": "execute_result"
    }
   ],
   "source": [
    "np.mean(score2), np.std(score2)"
   ]
  },
  {
   "cell_type": "code",
   "execution_count": 127,
   "metadata": {},
   "outputs": [
    {
     "data": {
      "text/plain": [
       "(0.922787610619469, 0.004687969048764818)"
      ]
     },
     "execution_count": 127,
     "metadata": {},
     "output_type": "execute_result"
    }
   ],
   "source": [
    "np.mean(score3), np.std(score3)"
   ]
  },
  {
   "cell_type": "code",
   "execution_count": null,
   "metadata": {},
   "outputs": [],
   "source": []
  },
  {
   "cell_type": "code",
   "execution_count": null,
   "metadata": {},
   "outputs": [],
   "source": []
  },
  {
   "cell_type": "code",
   "execution_count": null,
   "metadata": {},
   "outputs": [],
   "source": []
  },
  {
   "cell_type": "code",
   "execution_count": null,
   "metadata": {},
   "outputs": [],
   "source": []
  },
  {
   "cell_type": "code",
   "execution_count": null,
   "metadata": {},
   "outputs": [],
   "source": []
  }
 ],
 "metadata": {
  "kernelspec": {
   "display_name": "Python 3",
   "language": "python",
   "name": "python3"
  },
  "language_info": {
   "codemirror_mode": {
    "name": "ipython",
    "version": 3
   },
   "file_extension": ".py",
   "mimetype": "text/x-python",
   "name": "python",
   "nbconvert_exporter": "python",
   "pygments_lexer": "ipython3",
   "version": "3.8.3"
  }
 },
 "nbformat": 4,
 "nbformat_minor": 4
}
