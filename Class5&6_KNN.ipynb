{
 "cells": [
  {
   "cell_type": "code",
   "execution_count": 30,
   "metadata": {},
   "outputs": [],
   "source": [
    "import pandas as pd\n",
    "import numpy as np\n",
    "from matplotlib import pyplot as plt\n",
    "import seaborn as sb"
   ]
  },
  {
   "cell_type": "code",
   "execution_count": 31,
   "metadata": {},
   "outputs": [],
   "source": [
    "data=pd.read_csv('column_2C_weka.csv')"
   ]
  },
  {
   "cell_type": "code",
   "execution_count": 32,
   "metadata": {},
   "outputs": [
    {
     "data": {
      "text/html": [
       "<div>\n",
       "<style scoped>\n",
       "    .dataframe tbody tr th:only-of-type {\n",
       "        vertical-align: middle;\n",
       "    }\n",
       "\n",
       "    .dataframe tbody tr th {\n",
       "        vertical-align: top;\n",
       "    }\n",
       "\n",
       "    .dataframe thead th {\n",
       "        text-align: right;\n",
       "    }\n",
       "</style>\n",
       "<table border=\"1\" class=\"dataframe\">\n",
       "  <thead>\n",
       "    <tr style=\"text-align: right;\">\n",
       "      <th></th>\n",
       "      <th>pelvic_incidence</th>\n",
       "      <th>pelvic_tilt numeric</th>\n",
       "      <th>lumbar_lordosis_angle</th>\n",
       "      <th>sacral_slope</th>\n",
       "      <th>pelvic_radius</th>\n",
       "      <th>degree_spondylolisthesis</th>\n",
       "      <th>class</th>\n",
       "    </tr>\n",
       "  </thead>\n",
       "  <tbody>\n",
       "    <tr>\n",
       "      <th>0</th>\n",
       "      <td>63.027818</td>\n",
       "      <td>22.552586</td>\n",
       "      <td>39.609117</td>\n",
       "      <td>40.475232</td>\n",
       "      <td>98.672917</td>\n",
       "      <td>-0.254400</td>\n",
       "      <td>Abnormal</td>\n",
       "    </tr>\n",
       "    <tr>\n",
       "      <th>1</th>\n",
       "      <td>39.056951</td>\n",
       "      <td>10.060991</td>\n",
       "      <td>25.015378</td>\n",
       "      <td>28.995960</td>\n",
       "      <td>114.405425</td>\n",
       "      <td>4.564259</td>\n",
       "      <td>Abnormal</td>\n",
       "    </tr>\n",
       "  </tbody>\n",
       "</table>\n",
       "</div>"
      ],
      "text/plain": [
       "   pelvic_incidence  pelvic_tilt numeric  lumbar_lordosis_angle  sacral_slope  \\\n",
       "0         63.027818            22.552586              39.609117     40.475232   \n",
       "1         39.056951            10.060991              25.015378     28.995960   \n",
       "\n",
       "   pelvic_radius  degree_spondylolisthesis     class  \n",
       "0      98.672917                 -0.254400  Abnormal  \n",
       "1     114.405425                  4.564259  Abnormal  "
      ]
     },
     "execution_count": 32,
     "metadata": {},
     "output_type": "execute_result"
    }
   ],
   "source": [
    "data.head(2)"
   ]
  },
  {
   "cell_type": "code",
   "execution_count": 33,
   "metadata": {},
   "outputs": [
    {
     "name": "stdout",
     "output_type": "stream",
     "text": [
      "Abnormal    0.677419\n",
      "Normal      0.322581\n",
      "Name: class, dtype: float64\n"
     ]
    },
    {
     "data": {
      "text/plain": [
       "<matplotlib.axes._subplots.AxesSubplot at 0x16578a4c648>"
      ]
     },
     "execution_count": 33,
     "metadata": {},
     "output_type": "execute_result"
    },
    {
     "data": {
      "image/png": "[encoded data removed]",
      "text/plain": [
       "<Figure size 432x288 with 1 Axes>"
      ]
     },
     "metadata": {
      "needs_background": "light"
     },
     "output_type": "display_data"
    }
   ],
   "source": [
    "print(data['class'].value_counts(normalize=True))\n",
    "data['class'].value_counts(normalize=True).plot(kind='bar')"
   ]
  },
  {
   "cell_type": "code",
   "execution_count": 34,
   "metadata": {},
   "outputs": [],
   "source": [
    "data['class']=data['class'].replace({'Abnormal':1,'Normal':0})"
   ]
  },
  {
   "cell_type": "code",
   "execution_count": 35,
   "metadata": {},
   "outputs": [],
   "source": [
    "out=data['class']\n",
    "inp=data.drop('class',1)"
   ]
  },
  {
   "cell_type": "code",
   "execution_count": 36,
   "metadata": {},
   "outputs": [],
   "source": [
    "from sklearn.model_selection import train_test_split,cross_val_score,KFold\n",
    "xtrain,xtest,ytrain,ytest=train_test_split(inp,out,test_size=0.3,random_state=1)"
   ]
  },
  {
   "cell_type": "code",
   "execution_count": 8,
   "metadata": {},
   "outputs": [],
   "source": [
    "from sklearn.neighbors import KNeighborsClassifier"
   ]
  },
  {
   "cell_type": "code",
   "execution_count": 37,
   "metadata": {},
   "outputs": [],
   "source": [
    "knn_mod=KNeighborsClassifier()\n",
    "knn_mod.fit(xtrain,ytrain)\n",
    "ypred=knn_mod.predict(xtest)"
   ]
  },
  {
   "cell_type": "code",
   "execution_count": 38,
   "metadata": {},
   "outputs": [
    {
     "data": {
      "text/plain": [
       "KNeighborsClassifier(algorithm='auto', leaf_size=30, metric='minkowski',\n",
       "                     metric_params=None, n_jobs=None, n_neighbors=5, p=2,\n",
       "                     weights='uniform')"
      ]
     },
     "execution_count": 38,
     "metadata": {},
     "output_type": "execute_result"
    }
   ],
   "source": [
    "knn_mod"
   ]
  },
  {
   "cell_type": "code",
   "execution_count": 39,
   "metadata": {},
   "outputs": [],
   "source": [
    "from sklearn.metrics import classification_report,accuracy_score"
   ]
  },
  {
   "cell_type": "code",
   "execution_count": 40,
   "metadata": {},
   "outputs": [
    {
     "name": "stdout",
     "output_type": "stream",
     "text": [
      "              precision    recall  f1-score   support\n",
      "\n",
      "           0       0.71      0.81      0.76        27\n",
      "           1       0.92      0.86      0.89        66\n",
      "\n",
      "    accuracy                           0.85        93\n",
      "   macro avg       0.81      0.84      0.82        93\n",
      "weighted avg       0.86      0.85      0.85        93\n",
      "\n"
     ]
    }
   ],
   "source": [
    "print(classification_report(ytest,ypred))"
   ]
  },
  {
   "cell_type": "code",
   "execution_count": 27,
   "metadata": {},
   "outputs": [],
   "source": [
    "test=xtest.iloc[0,:].values.reshape(1,-1)"
   ]
  },
  {
   "cell_type": "code",
   "execution_count": 28,
   "metadata": {},
   "outputs": [
    {
     "data": {
      "text/plain": [
       "(array([[ 7.34218532, 11.18923883, 11.39924297, 12.33363933, 13.20230054]]),\n",
       " array([[ 13, 168, 210,  86, 111]], dtype=int64))"
      ]
     },
     "execution_count": 28,
     "metadata": {},
     "output_type": "execute_result"
    }
   ],
   "source": [
    "knn_mod.kneighbors(test)"
   ]
  },
  {
   "cell_type": "code",
   "execution_count": null,
   "metadata": {},
   "outputs": [],
   "source": []
  },
  {
   "cell_type": "code",
   "execution_count": 13,
   "metadata": {},
   "outputs": [],
   "source": [
    "train_acc=[]\n",
    "test_acc=[]\n",
    "neig=np.arange(1,21)\n",
    "for k in neig:\n",
    "    knn_mod=KNeighborsClassifier(n_neighbors=k)\n",
    "    knn_mod.fit(xtrain,ytrain)\n",
    "    ypred_test=knn_mod.predict(xtest)\n",
    "    ypred_train=knn_mod.predict(xtrain)\n",
    "    train_acc.append(accuracy_score(ytrain,ypred_train))\n",
    "    test_acc.append(accuracy_score(ytest,ypred_test))"
   ]
  },
  {
   "cell_type": "code",
   "execution_count": 14,
   "metadata": {},
   "outputs": [
    {
     "data": {
      "text/plain": [
       "[<matplotlib.lines.Line2D at 0x165771cb388>]"
      ]
     },
     "execution_count": 14,
     "metadata": {},
     "output_type": "execute_result"
    },
    {
     "data": {
      "image/png": "[encoded data removed]",
      "text/plain": [
       "<Figure size 936x576 with 1 Axes>"
      ]
     },
     "metadata": {
      "needs_background": "light"
     },
     "output_type": "display_data"
    }
   ],
   "source": [
    "plt.figure(figsize=(13,8))\n",
    "plt.xticks(neig)\n",
    "plt.plot(neig,train_acc)\n",
    "plt.plot(neig,test_acc)"
   ]
  },
  {
   "cell_type": "code",
   "execution_count": 15,
   "metadata": {},
   "outputs": [
    {
     "data": {
      "text/plain": [
       "KNeighborsClassifier(algorithm='auto', leaf_size=30, metric='minkowski',\n",
       "                     metric_params=None, n_jobs=None, n_neighbors=20, p=2,\n",
       "                     weights='uniform')"
      ]
     },
     "execution_count": 15,
     "metadata": {},
     "output_type": "execute_result"
    }
   ],
   "source": [
    "knn_mod"
   ]
  },
  {
   "cell_type": "code",
   "execution_count": 16,
   "metadata": {},
   "outputs": [],
   "source": [
    "from sklearn.model_selection import GridSearchCV"
   ]
  },
  {
   "cell_type": "code",
   "execution_count": 118,
   "metadata": {},
   "outputs": [],
   "source": [
    "mod=KNeighborsClassifier()"
   ]
  },
  {
   "cell_type": "code",
   "execution_count": 119,
   "metadata": {},
   "outputs": [],
   "source": [
    "params={'n_neighbors':[3,5,7,9,11,13,15],'metric':['minkowski'],'p':[1,2,3,4,5,6],'weights':['uniform','distance']}"
   ]
  },
  {
   "cell_type": "code",
   "execution_count": 120,
   "metadata": {},
   "outputs": [],
   "source": [
    "hyp_mod=GridSearchCV(mod,param_grid=params,scoring='accuracy',return_train_score=True)"
   ]
  },
  {
   "cell_type": "code",
   "execution_count": 122,
   "metadata": {},
   "outputs": [],
   "source": [
    "tun_mod=hyp_mod.fit(xtrain,ytrain)"
   ]
  },
  {
   "cell_type": "code",
   "execution_count": 123,
   "metadata": {},
   "outputs": [
    {
     "data": {
      "text/plain": [
       "KNeighborsClassifier(algorithm='auto', leaf_size=30, metric='minkowski',\n",
       "                     metric_params=None, n_jobs=None, n_neighbors=11, p=2,\n",
       "                     weights='distance')"
      ]
     },
     "execution_count": 123,
     "metadata": {},
     "output_type": "execute_result"
    }
   ],
   "source": [
    "tun_mod.best_estimator_"
   ]
  },
  {
   "cell_type": "code",
   "execution_count": 124,
   "metadata": {},
   "outputs": [
    {
     "data": {
      "text/plain": [
       "0.8526427061310782"
      ]
     },
     "execution_count": 124,
     "metadata": {},
     "output_type": "execute_result"
    }
   ],
   "source": [
    "tun_mod.best_score_"
   ]
  },
  {
   "cell_type": "code",
   "execution_count": 128,
   "metadata": {},
   "outputs": [
    {
     "data": {
      "text/html": [
       "<div>\n",
       "<style scoped>\n",
       "    .dataframe tbody tr th:only-of-type {\n",
       "        vertical-align: middle;\n",
       "    }\n",
       "\n",
       "    .dataframe tbody tr th {\n",
       "        vertical-align: top;\n",
       "    }\n",
       "\n",
       "    .dataframe thead th {\n",
       "        text-align: right;\n",
       "    }\n",
       "</style>\n",
       "<table border=\"1\" class=\"dataframe\">\n",
       "  <thead>\n",
       "    <tr style=\"text-align: right;\">\n",
       "      <th></th>\n",
       "      <th>mean_fit_time</th>\n",
       "      <th>std_fit_time</th>\n",
       "      <th>mean_score_time</th>\n",
       "      <th>std_score_time</th>\n",
       "      <th>param_metric</th>\n",
       "      <th>param_n_neighbors</th>\n",
       "      <th>param_p</th>\n",
       "      <th>param_weights</th>\n",
       "      <th>params</th>\n",
       "      <th>split0_test_score</th>\n",
       "      <th>...</th>\n",
       "      <th>mean_test_score</th>\n",
       "      <th>std_test_score</th>\n",
       "      <th>rank_test_score</th>\n",
       "      <th>split0_train_score</th>\n",
       "      <th>split1_train_score</th>\n",
       "      <th>split2_train_score</th>\n",
       "      <th>split3_train_score</th>\n",
       "      <th>split4_train_score</th>\n",
       "      <th>mean_train_score</th>\n",
       "      <th>std_train_score</th>\n",
       "    </tr>\n",
       "  </thead>\n",
       "  <tbody>\n",
       "    <tr>\n",
       "      <th>0</th>\n",
       "      <td>0.003198</td>\n",
       "      <td>0.001469</td>\n",
       "      <td>0.005396</td>\n",
       "      <td>0.001200</td>\n",
       "      <td>minkowski</td>\n",
       "      <td>3</td>\n",
       "      <td>1</td>\n",
       "      <td>uniform</td>\n",
       "      <td>{'metric': 'minkowski', 'n_neighbors': 3, 'p':...</td>\n",
       "      <td>0.818182</td>\n",
       "      <td>...</td>\n",
       "      <td>0.847780</td>\n",
       "      <td>0.043121</td>\n",
       "      <td>7</td>\n",
       "      <td>0.936416</td>\n",
       "      <td>0.890173</td>\n",
       "      <td>0.913793</td>\n",
       "      <td>0.925287</td>\n",
       "      <td>0.908046</td>\n",
       "      <td>0.914743</td>\n",
       "      <td>0.015686</td>\n",
       "    </tr>\n",
       "    <tr>\n",
       "      <th>1</th>\n",
       "      <td>0.000400</td>\n",
       "      <td>0.000799</td>\n",
       "      <td>0.000209</td>\n",
       "      <td>0.000418</td>\n",
       "      <td>minkowski</td>\n",
       "      <td>3</td>\n",
       "      <td>1</td>\n",
       "      <td>distance</td>\n",
       "      <td>{'metric': 'minkowski', 'n_neighbors': 3, 'p':...</td>\n",
       "      <td>0.818182</td>\n",
       "      <td>...</td>\n",
       "      <td>0.843129</td>\n",
       "      <td>0.045213</td>\n",
       "      <td>11</td>\n",
       "      <td>1.000000</td>\n",
       "      <td>1.000000</td>\n",
       "      <td>1.000000</td>\n",
       "      <td>1.000000</td>\n",
       "      <td>1.000000</td>\n",
       "      <td>1.000000</td>\n",
       "      <td>0.000000</td>\n",
       "    </tr>\n",
       "    <tr>\n",
       "      <th>2</th>\n",
       "      <td>0.003125</td>\n",
       "      <td>0.006249</td>\n",
       "      <td>0.000000</td>\n",
       "      <td>0.000000</td>\n",
       "      <td>minkowski</td>\n",
       "      <td>3</td>\n",
       "      <td>2</td>\n",
       "      <td>uniform</td>\n",
       "      <td>{'metric': 'minkowski', 'n_neighbors': 3, 'p':...</td>\n",
       "      <td>0.772727</td>\n",
       "      <td>...</td>\n",
       "      <td>0.815751</td>\n",
       "      <td>0.040888</td>\n",
       "      <td>47</td>\n",
       "      <td>0.901734</td>\n",
       "      <td>0.890173</td>\n",
       "      <td>0.908046</td>\n",
       "      <td>0.890805</td>\n",
       "      <td>0.902299</td>\n",
       "      <td>0.898611</td>\n",
       "      <td>0.006993</td>\n",
       "    </tr>\n",
       "    <tr>\n",
       "      <th>3</th>\n",
       "      <td>0.003125</td>\n",
       "      <td>0.006250</td>\n",
       "      <td>0.000000</td>\n",
       "      <td>0.000000</td>\n",
       "      <td>minkowski</td>\n",
       "      <td>3</td>\n",
       "      <td>2</td>\n",
       "      <td>distance</td>\n",
       "      <td>{'metric': 'minkowski', 'n_neighbors': 3, 'p':...</td>\n",
       "      <td>0.772727</td>\n",
       "      <td>...</td>\n",
       "      <td>0.811099</td>\n",
       "      <td>0.044625</td>\n",
       "      <td>54</td>\n",
       "      <td>1.000000</td>\n",
       "      <td>1.000000</td>\n",
       "      <td>1.000000</td>\n",
       "      <td>1.000000</td>\n",
       "      <td>1.000000</td>\n",
       "      <td>1.000000</td>\n",
       "      <td>0.000000</td>\n",
       "    </tr>\n",
       "    <tr>\n",
       "      <th>4</th>\n",
       "      <td>0.006251</td>\n",
       "      <td>0.007656</td>\n",
       "      <td>0.007550</td>\n",
       "      <td>0.007007</td>\n",
       "      <td>minkowski</td>\n",
       "      <td>3</td>\n",
       "      <td>3</td>\n",
       "      <td>uniform</td>\n",
       "      <td>{'metric': 'minkowski', 'n_neighbors': 3, 'p':...</td>\n",
       "      <td>0.772727</td>\n",
       "      <td>...</td>\n",
       "      <td>0.797357</td>\n",
       "      <td>0.036370</td>\n",
       "      <td>77</td>\n",
       "      <td>0.884393</td>\n",
       "      <td>0.890173</td>\n",
       "      <td>0.908046</td>\n",
       "      <td>0.879310</td>\n",
       "      <td>0.908046</td>\n",
       "      <td>0.893994</td>\n",
       "      <td>0.011977</td>\n",
       "    </tr>\n",
       "    <tr>\n",
       "      <th>...</th>\n",
       "      <td>...</td>\n",
       "      <td>...</td>\n",
       "      <td>...</td>\n",
       "      <td>...</td>\n",
       "      <td>...</td>\n",
       "      <td>...</td>\n",
       "      <td>...</td>\n",
       "      <td>...</td>\n",
       "      <td>...</td>\n",
       "      <td>...</td>\n",
       "      <td>...</td>\n",
       "      <td>...</td>\n",
       "      <td>...</td>\n",
       "      <td>...</td>\n",
       "      <td>...</td>\n",
       "      <td>...</td>\n",
       "      <td>...</td>\n",
       "      <td>...</td>\n",
       "      <td>...</td>\n",
       "      <td>...</td>\n",
       "      <td>...</td>\n",
       "    </tr>\n",
       "    <tr>\n",
       "      <th>79</th>\n",
       "      <td>0.003125</td>\n",
       "      <td>0.006250</td>\n",
       "      <td>0.006250</td>\n",
       "      <td>0.007654</td>\n",
       "      <td>minkowski</td>\n",
       "      <td>15</td>\n",
       "      <td>4</td>\n",
       "      <td>distance</td>\n",
       "      <td>{'metric': 'minkowski', 'n_neighbors': 15, 'p'...</td>\n",
       "      <td>0.840909</td>\n",
       "      <td>...</td>\n",
       "      <td>0.847992</td>\n",
       "      <td>0.031159</td>\n",
       "      <td>5</td>\n",
       "      <td>1.000000</td>\n",
       "      <td>1.000000</td>\n",
       "      <td>1.000000</td>\n",
       "      <td>1.000000</td>\n",
       "      <td>1.000000</td>\n",
       "      <td>1.000000</td>\n",
       "      <td>0.000000</td>\n",
       "    </tr>\n",
       "    <tr>\n",
       "      <th>80</th>\n",
       "      <td>0.000000</td>\n",
       "      <td>0.000000</td>\n",
       "      <td>0.006250</td>\n",
       "      <td>0.007655</td>\n",
       "      <td>minkowski</td>\n",
       "      <td>15</td>\n",
       "      <td>5</td>\n",
       "      <td>uniform</td>\n",
       "      <td>{'metric': 'minkowski', 'n_neighbors': 15, 'p'...</td>\n",
       "      <td>0.840909</td>\n",
       "      <td>...</td>\n",
       "      <td>0.852643</td>\n",
       "      <td>0.040076</td>\n",
       "      <td>1</td>\n",
       "      <td>0.878613</td>\n",
       "      <td>0.867052</td>\n",
       "      <td>0.850575</td>\n",
       "      <td>0.867816</td>\n",
       "      <td>0.879310</td>\n",
       "      <td>0.868673</td>\n",
       "      <td>0.010420</td>\n",
       "    </tr>\n",
       "    <tr>\n",
       "      <th>81</th>\n",
       "      <td>0.003125</td>\n",
       "      <td>0.006250</td>\n",
       "      <td>0.000000</td>\n",
       "      <td>0.000000</td>\n",
       "      <td>minkowski</td>\n",
       "      <td>15</td>\n",
       "      <td>5</td>\n",
       "      <td>distance</td>\n",
       "      <td>{'metric': 'minkowski', 'n_neighbors': 15, 'p'...</td>\n",
       "      <td>0.840909</td>\n",
       "      <td>...</td>\n",
       "      <td>0.847992</td>\n",
       "      <td>0.031159</td>\n",
       "      <td>5</td>\n",
       "      <td>1.000000</td>\n",
       "      <td>1.000000</td>\n",
       "      <td>1.000000</td>\n",
       "      <td>1.000000</td>\n",
       "      <td>1.000000</td>\n",
       "      <td>1.000000</td>\n",
       "      <td>0.000000</td>\n",
       "    </tr>\n",
       "    <tr>\n",
       "      <th>82</th>\n",
       "      <td>0.009374</td>\n",
       "      <td>0.007654</td>\n",
       "      <td>0.000000</td>\n",
       "      <td>0.000000</td>\n",
       "      <td>minkowski</td>\n",
       "      <td>15</td>\n",
       "      <td>6</td>\n",
       "      <td>uniform</td>\n",
       "      <td>{'metric': 'minkowski', 'n_neighbors': 15, 'p'...</td>\n",
       "      <td>0.840909</td>\n",
       "      <td>...</td>\n",
       "      <td>0.838689</td>\n",
       "      <td>0.014820</td>\n",
       "      <td>16</td>\n",
       "      <td>0.867052</td>\n",
       "      <td>0.867052</td>\n",
       "      <td>0.850575</td>\n",
       "      <td>0.862069</td>\n",
       "      <td>0.867816</td>\n",
       "      <td>0.862913</td>\n",
       "      <td>0.006500</td>\n",
       "    </tr>\n",
       "    <tr>\n",
       "      <th>83</th>\n",
       "      <td>0.000000</td>\n",
       "      <td>0.000000</td>\n",
       "      <td>0.000000</td>\n",
       "      <td>0.000000</td>\n",
       "      <td>minkowski</td>\n",
       "      <td>15</td>\n",
       "      <td>6</td>\n",
       "      <td>distance</td>\n",
       "      <td>{'metric': 'minkowski', 'n_neighbors': 15, 'p'...</td>\n",
       "      <td>0.840909</td>\n",
       "      <td>...</td>\n",
       "      <td>0.834038</td>\n",
       "      <td>0.010178</td>\n",
       "      <td>24</td>\n",
       "      <td>1.000000</td>\n",
       "      <td>1.000000</td>\n",
       "      <td>1.000000</td>\n",
       "      <td>1.000000</td>\n",
       "      <td>1.000000</td>\n",
       "      <td>1.000000</td>\n",
       "      <td>0.000000</td>\n",
       "    </tr>\n",
       "  </tbody>\n",
       "</table>\n",
       "<p>84 rows × 24 columns</p>\n",
       "</div>"
      ],
      "text/plain": [
       "    mean_fit_time  std_fit_time  mean_score_time  std_score_time param_metric  \\\n",
       "0        0.003198      0.001469         0.005396        0.001200    minkowski   \n",
       "1        0.000400      0.000799         0.000209        0.000418    minkowski   \n",
       "2        0.003125      0.006249         0.000000        0.000000    minkowski   \n",
       "3        0.003125      0.006250         0.000000        0.000000    minkowski   \n",
       "4        0.006251      0.007656         0.007550        0.007007    minkowski   \n",
       "..            ...           ...              ...             ...          ...   \n",
       "79       0.003125      0.006250         0.006250        0.007654    minkowski   \n",
       "80       0.000000      0.000000         0.006250        0.007655    minkowski   \n",
       "81       0.003125      0.006250         0.000000        0.000000    minkowski   \n",
       "82       0.009374      0.007654         0.000000        0.000000    minkowski   \n",
       "83       0.000000      0.000000         0.000000        0.000000    minkowski   \n",
       "\n",
       "   param_n_neighbors param_p param_weights  \\\n",
       "0                  3       1       uniform   \n",
       "1                  3       1      distance   \n",
       "2                  3       2       uniform   \n",
       "3                  3       2      distance   \n",
       "4                  3       3       uniform   \n",
       "..               ...     ...           ...   \n",
       "79                15       4      distance   \n",
       "80                15       5       uniform   \n",
       "81                15       5      distance   \n",
       "82                15       6       uniform   \n",
       "83                15       6      distance   \n",
       "\n",
       "                                               params  split0_test_score  ...  \\\n",
       "0   {'metric': 'minkowski', 'n_neighbors': 3, 'p':...           0.818182  ...   \n",
       "1   {'metric': 'minkowski', 'n_neighbors': 3, 'p':...           0.818182  ...   \n",
       "2   {'metric': 'minkowski', 'n_neighbors': 3, 'p':...           0.772727  ...   \n",
       "3   {'metric': 'minkowski', 'n_neighbors': 3, 'p':...           0.772727  ...   \n",
       "4   {'metric': 'minkowski', 'n_neighbors': 3, 'p':...           0.772727  ...   \n",
       "..                                                ...                ...  ...   \n",
       "79  {'metric': 'minkowski', 'n_neighbors': 15, 'p'...           0.840909  ...   \n",
       "80  {'metric': 'minkowski', 'n_neighbors': 15, 'p'...           0.840909  ...   \n",
       "81  {'metric': 'minkowski', 'n_neighbors': 15, 'p'...           0.840909  ...   \n",
       "82  {'metric': 'minkowski', 'n_neighbors': 15, 'p'...           0.840909  ...   \n",
       "83  {'metric': 'minkowski', 'n_neighbors': 15, 'p'...           0.840909  ...   \n",
       "\n",
       "    mean_test_score  std_test_score  rank_test_score  split0_train_score  \\\n",
       "0          0.847780        0.043121                7            0.936416   \n",
       "1          0.843129        0.045213               11            1.000000   \n",
       "2          0.815751        0.040888               47            0.901734   \n",
       "3          0.811099        0.044625               54            1.000000   \n",
       "4          0.797357        0.036370               77            0.884393   \n",
       "..              ...             ...              ...                 ...   \n",
       "79         0.847992        0.031159                5            1.000000   \n",
       "80         0.852643        0.040076                1            0.878613   \n",
       "81         0.847992        0.031159                5            1.000000   \n",
       "82         0.838689        0.014820               16            0.867052   \n",
       "83         0.834038        0.010178               24            1.000000   \n",
       "\n",
       "    split1_train_score  split2_train_score  split3_train_score  \\\n",
       "0             0.890173            0.913793            0.925287   \n",
       "1             1.000000            1.000000            1.000000   \n",
       "2             0.890173            0.908046            0.890805   \n",
       "3             1.000000            1.000000            1.000000   \n",
       "4             0.890173            0.908046            0.879310   \n",
       "..                 ...                 ...                 ...   \n",
       "79            1.000000            1.000000            1.000000   \n",
       "80            0.867052            0.850575            0.867816   \n",
       "81            1.000000            1.000000            1.000000   \n",
       "82            0.867052            0.850575            0.862069   \n",
       "83            1.000000            1.000000            1.000000   \n",
       "\n",
       "    split4_train_score  mean_train_score  std_train_score  \n",
       "0             0.908046          0.914743         0.015686  \n",
       "1             1.000000          1.000000         0.000000  \n",
       "2             0.902299          0.898611         0.006993  \n",
       "3             1.000000          1.000000         0.000000  \n",
       "4             0.908046          0.893994         0.011977  \n",
       "..                 ...               ...              ...  \n",
       "79            1.000000          1.000000         0.000000  \n",
       "80            0.879310          0.868673         0.010420  \n",
       "81            1.000000          1.000000         0.000000  \n",
       "82            0.867816          0.862913         0.006500  \n",
       "83            1.000000          1.000000         0.000000  \n",
       "\n",
       "[84 rows x 24 columns]"
      ]
     },
     "execution_count": 128,
     "metadata": {},
     "output_type": "execute_result"
    }
   ],
   "source": [
    "pd.DataFrame(tun_mod.cv_results_)"
   ]
  },
  {
   "cell_type": "code",
   "execution_count": 161,
   "metadata": {},
   "outputs": [
    {
     "data": {
      "text/plain": [
       "KNeighborsClassifier(algorithm='auto', leaf_size=30, metric='minkowski',\n",
       "                     metric_params=None, n_jobs=None, n_neighbors=11, p=2,\n",
       "                     weights='distance')"
      ]
     },
     "execution_count": 161,
     "metadata": {},
     "output_type": "execute_result"
    }
   ],
   "source": [
    "final_mod=KNeighborsClassifier(**tun_mod.best_params_)\n",
    "final_mod.fit(xtrain,ytrain)"
   ]
  },
  {
   "cell_type": "code",
   "execution_count": 164,
   "metadata": {},
   "outputs": [],
   "source": [
    "import pickle\n",
    "#my_mod=pickle.dumps(final_mod)"
   ]
  },
  {
   "cell_type": "code",
   "execution_count": 171,
   "metadata": {},
   "outputs": [],
   "source": [
    "pickle.dump(final_mod,open(\"my_mod.pkl\",\"wb\"))"
   ]
  },
  {
   "cell_type": "code",
   "execution_count": 172,
   "metadata": {},
   "outputs": [],
   "source": [
    "mod2=pickle.load(open(\"my_mod.pkl\",\"rb\"))"
   ]
  },
  {
   "cell_type": "code",
   "execution_count": 173,
   "metadata": {},
   "outputs": [
    {
     "data": {
      "text/plain": [
       "array([1, 0, 1, 1, 1, 1, 0, 1, 1, 1, 0, 0, 0, 0, 0, 1, 1, 0, 0, 1, 0, 0,\n",
       "       0, 1, 1, 1, 1, 1, 0, 1, 1, 0, 0, 1, 1, 1, 0, 1, 1, 1, 0, 0, 1, 0,\n",
       "       1, 1, 0, 1, 1, 1, 0, 0, 1, 1, 1, 1, 1, 1, 1, 1, 0, 1, 0, 0, 1, 1,\n",
       "       0, 1, 1, 1, 1, 1, 1, 0, 0, 1, 1, 1, 1, 0, 0, 1, 1, 0, 1, 1, 1, 1,\n",
       "       0, 0, 1, 0, 1], dtype=int64)"
      ]
     },
     "execution_count": 173,
     "metadata": {},
     "output_type": "execute_result"
    }
   ],
   "source": [
    "mod2.predict(xtest)"
   ]
  },
  {
   "cell_type": "code",
   "execution_count": 174,
   "metadata": {},
   "outputs": [
    {
     "data": {
      "text/plain": [
       "KNeighborsClassifier(algorithm='auto', leaf_size=30, metric='minkowski',\n",
       "                     metric_params=None, n_jobs=None, n_neighbors=11, p=2,\n",
       "                     weights='distance')"
      ]
     },
     "execution_count": 174,
     "metadata": {},
     "output_type": "execute_result"
    }
   ],
   "source": [
    "mod2"
   ]
  },
  {
   "cell_type": "code",
   "execution_count": null,
   "metadata": {},
   "outputs": [],
   "source": []
  }
 ],
 "metadata": {
  "kernelspec": {
   "display_name": "Python 3",
   "language": "python",
   "name": "python3"
  },
  "language_info": {
   "codemirror_mode": {
    "name": "ipython",
    "version": 3
   },
   "file_extension": ".py",
   "mimetype": "text/x-python",
   "name": "python",
   "nbconvert_exporter": "python",
   "pygments_lexer": "ipython3",
   "version": "3.8.3"
  }
 },
 "nbformat": 4,
 "nbformat_minor": 4
}
